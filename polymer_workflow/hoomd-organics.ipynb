{
  "cells": [
    {
      "cell_type": "markdown",
      "metadata": {
        "id": "view-in-github",
        "colab_type": "text"
      },
      "source": [
        "<a href=\"https://colab.research.google.com/github/mosdef-hub/CECAM-MoSDeF-Workshop/blob/main/polymer_workflow/hoomd-organics.ipynb\" target=\"_parent\"><img src=\"https://colab.research.google.com/assets/colab-badge.svg\" alt=\"Open In Colab\"/></a>"
      ]
    },
    {
      "cell_type": "markdown",
      "source": [
        "# **Organic Polymers with HOOMD**\n",
        "---\n",
        "## Summary\n",
        "Users are encouraged to build functionality around MoSDeF tools by wrapping and extending the core classes to suit their needs. `hoomd-organics` is a lightweight library that provides another example of extending MoSDeF tools, reviews concepts from the Slitpore and Biomolecule notebooks, and demonstrates a rudimentary coarse-graining workflow.\n",
        "\n",
        "## Learning Objectives\n",
        "This notebook provides interactive examples that will assist learners in using MoSDeF tools to:\n",
        "1. Initialize complex macromolecules for molecular simulation.\n",
        "2. Demonstrate how to run HOOMD-Blue simulations with these molecules.\n",
        "3. Use and inspect forcefields.\n",
        "4. Generate coarse-grained representations and run simplified models.\n",
        "\n",
        "## Tutorial Contents\n",
        "0. Set up the notebook environment on Google Colab\n",
        "1. A concise polymer example with `hoomd-organics`\n",
        "2. Defining molecules\n",
        "3. Defining and inspecting forces\n",
        "4. Specifying your own systems\n",
        "5. Coarse-graining\n",
        "\n",
        "# __0. Orientation, Installation, & Setup__\n",
        "---\n",
        "\n",
        "## Software stack setup\n",
        "After running the cell below the kernel will restart -- This is necessary for conda dependencies, but you'll need to wait for that kernel restart before running the second cell.\n",
        "\n",
        "## Interface notes\n",
        "There are two types of output in these Colab notebooks that can be a little tricky:\n",
        "\n",
        "1. If the output is very long, for example from the mamba command in the second cell, scrolling past the output can feel onerous. In this case, scrolling up and down in the narrow grey area between the sidebar menu and the cells can help you navigate.\n",
        "\n",
        "2. If the output is a visualization of a molecule or simulation configuration, scrolling up or down will zoom in or out if the cursor is over the visualization. In these cases, take some care to scroll outside of the visualization.\n",
        "\n",
        "OK, so if you haven't already, run the next cell by using Shift+Return when the cell is active (click on it) or by pressing the Play button that appears when you mouseover it"
      ],
      "metadata": {
        "id": "w6ZHWJc3wy56"
      }
    },
    {
      "cell_type": "code",
      "source": [
        "!pip install -q condacolab\n",
        "!git clone --single-branch --branch cecam https://github.com/cmelab/hoomd-organics\n",
        "import condacolab\n",
        "condacolab.install()"
      ],
      "metadata": {
        "id": "iAGFkmM4m520"
      },
      "execution_count": null,
      "outputs": []
    },
    {
      "cell_type": "markdown",
      "source": [
        "It will take about 2-3 minutes to install the python dependencies after the kernel restarts. Once the kernel does restart, you can run the following cell right away. This cell and the previous one only need to be run once each, and running either one a second time can cause some confusions."
      ],
      "metadata": {
        "id": "aK_FlYzMxb4e"
      }
    },
    {
      "cell_type": "code",
      "source": [
        "#!pip install --upgrade ipykernel #breaks things?\n",
        "import os\n",
        "os.chdir(\"hoomd-organics\")\n",
        "!mamba env update -n base -f environment-cpu.yml\n",
        "!python -m pip install -e .\n",
        "import warnings\n",
        "warnings.filterwarnings('ignore')"
      ],
      "metadata": {
        "id": "1QYatbale15M",
        "outputId": "c872ca12-3b74-4dbd-b8be-c1610c30e9cf",
        "colab": {
          "base_uri": "https://localhost:8080/"
        }
      },
      "execution_count": 1,
      "outputs": [
        {
          "output_type": "stream",
          "name": "stdout",
          "text": [
            "\u001b[?25l\u001b[2K\u001b[0G[+] 0.0s\n",
            "\u001b[2K\u001b[1A\u001b[2K\u001b[0G[+] 0.1s\n",
            "conda-forge/linux-64  ⣾  \n",
            "conda-forge/noarch    ⣾  \u001b[2K\u001b[1A\u001b[2K\u001b[1A\u001b[2K\u001b[0G[+] 0.2s\n",
            "conda-forge/linux-64  ⣾  \n",
            "conda-forge/noarch    ⣾  \u001b[2K\u001b[1A\u001b[2K\u001b[1A\u001b[2K\u001b[0G[+] 0.3s\n",
            "conda-forge/linux-64  ⣾  \n",
            "conda-forge/noarch    ⣾  \u001b[2K\u001b[1A\u001b[2K\u001b[1A\u001b[2K\u001b[0G[+] 0.4s\n",
            "conda-forge/linux-64  ⣾  \n",
            "conda-forge/noarch    ⣾  \u001b[2K\u001b[1A\u001b[2K\u001b[1A\u001b[2K\u001b[0G[+] 0.5s\n",
            "conda-forge/linux-64  ⣾  \n",
            "conda-forge/noarch    ⣾  \u001b[2K\u001b[1A\u001b[2K\u001b[1A\u001b[2K\u001b[0G[+] 0.6s\n",
            "conda-forge/linux-64  ⣾  \n",
            "conda-forge/noarch    ⣾  \u001b[2K\u001b[1A\u001b[2K\u001b[1A\u001b[2K\u001b[0G[+] 0.7s\n",
            "conda-forge/linux-64  ⣾  \n",
            "conda-forge/noarch    ⣾  \u001b[2K\u001b[1A\u001b[2K\u001b[1A\u001b[2K\u001b[0G[+] 0.8s\n",
            "conda-forge/linux-64  ⣾  \n",
            "conda-forge/noarch    ⣾  \u001b[2K\u001b[1A\u001b[2K\u001b[1A\u001b[2K\u001b[0G[+] 0.9s\n",
            "conda-forge/linux-64  ⣾  \n",
            "conda-forge/noarch    ⣾  \u001b[2K\u001b[1A\u001b[2K\u001b[1A\u001b[2K\u001b[0G[+] 1.0s\n",
            "conda-forge/linux-64  ⣾  \n",
            "conda-forge/noarch    ⣾  \u001b[2K\u001b[1A\u001b[2K\u001b[1A\u001b[2K\u001b[0G[+] 1.1s\n",
            "conda-forge/linux-64  ⣾  \n",
            "conda-forge/noarch    ⣾  \u001b[2K\u001b[1A\u001b[2K\u001b[1A\u001b[2K\u001b[0G[+] 1.2s\n",
            "conda-forge/linux-64  ⣾  \n",
            "conda-forge/noarch    ⣾  \u001b[2K\u001b[1A\u001b[2K\u001b[1A\u001b[2K\u001b[0G[+] 1.3s\n",
            "conda-forge/linux-64  ⣾  \n",
            "conda-forge/noarch    ⣾  \u001b[2K\u001b[1A\u001b[2K\u001b[1A\u001b[2K\u001b[0G[+] 1.4s\n",
            "conda-forge/linux-64  ⣾  \n",
            "conda-forge/noarch    ⣾  \u001b[2K\u001b[1A\u001b[2K\u001b[1A\u001b[2K\u001b[0G[+] 1.5s\n",
            "conda-forge/linux-64  ⣾  \n",
            "conda-forge/noarch    ⣾  \u001b[2K\u001b[1A\u001b[2K\u001b[1A\u001b[2K\u001b[0G[+] 1.6s\n",
            "conda-forge/linux-64  ⣾  \n",
            "conda-forge/noarch    ⣾  \u001b[2K\u001b[1A\u001b[2K\u001b[1A\u001b[2K\u001b[0G[+] 1.7s\n",
            "conda-forge/linux-64  ⣾  \n",
            "conda-forge/noarch    ⣾  \u001b[2K\u001b[1A\u001b[2K\u001b[1A\u001b[2K\u001b[0G[+] 1.8s\n",
            "conda-forge/linux-64  ⣾  \n",
            "conda-forge/noarch    ⣾  \u001b[2K\u001b[1A\u001b[2K\u001b[1A\u001b[2K\u001b[0G[+] 1.9s\n",
            "conda-forge/linux-64  ⣾  \n",
            "conda-forge/noarch    ⣾  \u001b[2K\u001b[1A\u001b[2K\u001b[1A\u001b[2K\u001b[0G[+] 2.0s\n",
            "conda-forge/linux-64  ⣾  \n",
            "conda-forge/noarch    ⣾  \u001b[2K\u001b[1A\u001b[2K\u001b[1A\u001b[2K\u001b[0G[+] 2.1s\n",
            "conda-forge/linux-64  ⣾  \n",
            "conda-forge/noarch    ⣾  \u001b[2K\u001b[1A\u001b[2K\u001b[1A\u001b[2K\u001b[0G[+] 2.2s\n",
            "conda-forge/linux-64  ⣾  \n",
            "conda-forge/noarch    ⣾  \u001b[2K\u001b[1A\u001b[2K\u001b[1A\u001b[2K\u001b[0G[+] 2.3s\n",
            "conda-forge/linux-64  ⣾  \n",
            "conda-forge/noarch   100%\u001b[2K\u001b[1A\u001b[2K\u001b[1A\u001b[2K\u001b[0G[+] 2.4s\n",
            "conda-forge/linux-64  ⣾  \n",
            "conda-forge/noarch   100%\u001b[2K\u001b[1A\u001b[2K\u001b[1A\u001b[2K\u001b[0Gconda-forge/noarch                                \n",
            "[+] 2.5s\n",
            "conda-forge/linux-64  ⣾  \u001b[2K\u001b[1A\u001b[2K\u001b[0G[+] 2.6s\n",
            "conda-forge/linux-64  ⣾  \u001b[2K\u001b[1A\u001b[2K\u001b[0G[+] 2.7s\n",
            "conda-forge/linux-64  ⣾  \u001b[2K\u001b[1A\u001b[2K\u001b[0G[+] 2.8s\n",
            "conda-forge/linux-64  ⣾  \u001b[2K\u001b[1A\u001b[2K\u001b[0G[+] 2.9s\n",
            "conda-forge/linux-64  ⣾  \u001b[2K\u001b[1A\u001b[2K\u001b[0G[+] 3.0s\n",
            "conda-forge/linux-64  ⣾  \u001b[2K\u001b[1A\u001b[2K\u001b[0G[+] 3.1s\n",
            "conda-forge/linux-64  ⣾  \u001b[2K\u001b[1A\u001b[2K\u001b[0G[+] 3.2s\n",
            "conda-forge/linux-64  ⣾  \u001b[2K\u001b[1A\u001b[2K\u001b[0G[+] 3.3s\n",
            "conda-forge/linux-64  ⣾  \u001b[2K\u001b[1A\u001b[2K\u001b[0G[+] 3.4s\n",
            "conda-forge/linux-64  ⣾  \u001b[2K\u001b[1A\u001b[2K\u001b[0G[+] 3.5s\n",
            "conda-forge/linux-64  ⣾  \u001b[2K\u001b[1A\u001b[2K\u001b[0G[+] 3.6s\n",
            "conda-forge/linux-64  ⣾  \u001b[2K\u001b[1A\u001b[2K\u001b[0G[+] 3.7s\n",
            "conda-forge/linux-64  ⣾  \u001b[2K\u001b[1A\u001b[2K\u001b[0G[+] 3.8s\n",
            "conda-forge/linux-64  ⣾  \u001b[2K\u001b[1A\u001b[2K\u001b[0G[+] 3.9s\n",
            "conda-forge/linux-64  ⣾  \u001b[2K\u001b[1A\u001b[2K\u001b[0G[+] 4.0s\n",
            "conda-forge/linux-64  ⣾  \u001b[2K\u001b[1A\u001b[2K\u001b[0G[+] 4.1s\n",
            "conda-forge/linux-64  ⣾  \u001b[2K\u001b[1A\u001b[2K\u001b[0G[+] 4.2s\n",
            "conda-forge/linux-64  ⣾  \u001b[2K\u001b[1A\u001b[2K\u001b[0G[+] 4.3s\n",
            "conda-forge/linux-64  ⣾  \u001b[2K\u001b[1A\u001b[2K\u001b[0G[+] 4.4s\n",
            "conda-forge/linux-64  ⣾  \u001b[2K\u001b[1A\u001b[2K\u001b[0G[+] 4.5s\n",
            "conda-forge/linux-64  ⣾  \u001b[2K\u001b[1A\u001b[2K\u001b[0G[+] 4.6s\n",
            "conda-forge/linux-64  ⣾  \u001b[2K\u001b[1A\u001b[2K\u001b[0G[+] 4.7s\n",
            "conda-forge/linux-64  ⣾  \u001b[2K\u001b[1A\u001b[2K\u001b[0G[+] 4.8s\n",
            "conda-forge/linux-64  ⣾  \u001b[2K\u001b[1A\u001b[2K\u001b[0G[+] 4.9s\n",
            "conda-forge/linux-64 100%\u001b[2K\u001b[1A\u001b[2K\u001b[0G[+] 5.0s\n",
            "conda-forge/linux-64 100%\u001b[2K\u001b[1A\u001b[2K\u001b[0G[+] 5.1s\n",
            "conda-forge/linux-64 100%\u001b[2K\u001b[1A\u001b[2K\u001b[0G[+] 5.2s\n",
            "conda-forge/linux-64 100%\u001b[2K\u001b[1A\u001b[2K\u001b[0G[+] 5.3s\n",
            "conda-forge/linux-64 100%\u001b[2K\u001b[1A\u001b[2K\u001b[0G[+] 5.4s\n",
            "conda-forge/linux-64 100%\u001b[2K\u001b[1A\u001b[2K\u001b[0G[+] 5.5s\n",
            "conda-forge/linux-64 100%\u001b[2K\u001b[1A\u001b[2K\u001b[0G[+] 5.6s\n",
            "conda-forge/linux-64 100%\u001b[2K\u001b[1A\u001b[2K\u001b[0G[+] 5.7s\n",
            "conda-forge/linux-64 100%\u001b[2K\u001b[1A\u001b[2K\u001b[0G[+] 5.8s\n",
            "conda-forge/linux-64 100%\u001b[2K\u001b[1A\u001b[2K\u001b[0G[+] 5.9s\n",
            "conda-forge/linux-64 100%\u001b[2K\u001b[1A\u001b[2K\u001b[0G[+] 6.0s\n",
            "conda-forge/linux-64 100%\u001b[2K\u001b[1A\u001b[2K\u001b[0G[+] 6.1s\n",
            "\u001b[2K\u001b[1A\u001b[2K\u001b[0G[+] 6.2s\n",
            "\u001b[2K\u001b[1A\u001b[2K\u001b[0Gconda-forge/linux-64                              \n",
            "\u001b[?25h\n",
            "\n",
            "Looking for: ['boltons', 'foyer', \"gsd[version='<3.0']\", \"freud[version='>=2.13.1']\", \"gsd[version='>=3.0']\", 'hoomd==4.1[build=*cpu*]', 'mbuild', 'numpy', 'openbabel', 'pip', 'py3dmol', 'pytest', 'pytest-cov', 'unyt', 'symengine', 'python-symengine', 'sympy', 'fresnel']\n",
            "\n",
            "\n",
            "\n",
            "  Pinned packages:\n",
            "\n",
            "  - python 3.10.*\n",
            "  - python_abi 3.10.* *cp310*\n",
            "  - cudatoolkit 11.8.*\n",
            "\n",
            "\n",
            "Obtaining file:///content/hoomd-organics\n",
            "  Preparing metadata (setup.py) ... \u001b[?25l\u001b[?25hdone\n",
            "Installing collected packages: hoomd-organics\n",
            "  Running setup.py develop for hoomd-organics\n",
            "Successfully installed hoomd-organics-0.0.1\n",
            "\u001b[33mWARNING: Running pip as the 'root' user can result in broken permissions and conflicting behaviour with the system package manager. It is recommended to use a virtual environment instead: https://pip.pypa.io/warnings/venv\u001b[0m\u001b[33m\n",
            "\u001b[0m"
          ]
        }
      ]
    },
    {
      "cell_type": "markdown",
      "metadata": {
        "id": "IjSlna49m0WD"
      },
      "source": [
        "\n",
        "#  __1. HOOMD simulations from start to finish with MoSDeF Tools__\n",
        "---\n",
        "## Overview:\n",
        "We'll see how to run simulations of poly(phenylene sulfide) (PPS) molecules using the `hoomd-organics`, a package of MoSDeF tools for initializing and performing common MD simulations of organic molecules. This uses the [`HOOMD-blue`](https://hoomd-blue.readthedocs.io/en/v4.1.0/) simulation engine.\n",
        "\n"
      ]
    },
    {
      "cell_type": "markdown",
      "source": [
        "## 1.1 Initialization, parameterization, and simulation\n",
        "\n",
        "First, let's see everything in one block:\n",
        "\n",
        "With just a couple of imports and a few lines of code, we are able to initialize 30 8-mers of PPS, randomly pack them into a volume, perform a simulation in the NVT ensemble, and peek at the final configuration.\n",
        "\n",
        "Depending on your colab node utilization, this may take anywhere from 1-7 minutes."
      ],
      "metadata": {
        "id": "AGHaMCH1hv0y"
      }
    },
    {
      "cell_type": "code",
      "execution_count": 2,
      "metadata": {
        "id": "7V4Oat3Cm0WE",
        "outputId": "c8e67417-e92c-45ec-d085-93e43e2a0ced",
        "colab": {
          "base_uri": "https://localhost:8080/",
          "height": 554
        }
      },
      "outputs": [
        {
          "output_type": "error",
          "ename": "ModuleNotFoundError",
          "evalue": "ignored",
          "traceback": [
            "\u001b[0;31m---------------------------------------------------------------------------\u001b[0m",
            "\u001b[0;31mModuleNotFoundError\u001b[0m                       Traceback (most recent call last)",
            "\u001b[0;32m/tmp/ipykernel_1112/871937842.py\u001b[0m in \u001b[0;36m<cell line: 1>\u001b[0;34m()\u001b[0m\n\u001b[0;32m----> 1\u001b[0;31m \u001b[0;32mfrom\u001b[0m \u001b[0mhoomd_organics\u001b[0m\u001b[0;34m.\u001b[0m\u001b[0mlibrary\u001b[0m \u001b[0;32mimport\u001b[0m \u001b[0mPPS\u001b[0m\u001b[0;34m,\u001b[0m \u001b[0mOPLS_AA_PPS\u001b[0m\u001b[0;34m\u001b[0m\u001b[0;34m\u001b[0m\u001b[0m\n\u001b[0m\u001b[1;32m      2\u001b[0m \u001b[0;32mfrom\u001b[0m \u001b[0mhoomd_organics\u001b[0m \u001b[0;32mimport\u001b[0m \u001b[0mPack\u001b[0m\u001b[0;34m,\u001b[0m \u001b[0mSimulation\u001b[0m\u001b[0;34m\u001b[0m\u001b[0;34m\u001b[0m\u001b[0m\n\u001b[1;32m      3\u001b[0m \u001b[0;32mfrom\u001b[0m \u001b[0mcmeutils\u001b[0m\u001b[0;34m.\u001b[0m\u001b[0mvisualize\u001b[0m \u001b[0;32mimport\u001b[0m \u001b[0mFresnelGSD\u001b[0m\u001b[0;34m\u001b[0m\u001b[0;34m\u001b[0m\u001b[0m\n\u001b[1;32m      4\u001b[0m \u001b[0;34m\u001b[0m\u001b[0m\n\u001b[1;32m      5\u001b[0m \u001b[0mmolecules\u001b[0m \u001b[0;34m=\u001b[0m \u001b[0mPPS\u001b[0m\u001b[0;34m(\u001b[0m\u001b[0mnum_mols\u001b[0m\u001b[0;34m=\u001b[0m\u001b[0;36m30\u001b[0m\u001b[0;34m,\u001b[0m \u001b[0mlengths\u001b[0m\u001b[0;34m=\u001b[0m\u001b[0;36m8\u001b[0m\u001b[0;34m)\u001b[0m\u001b[0;34m\u001b[0m\u001b[0;34m\u001b[0m\u001b[0m\n",
            "\u001b[0;32m/content/hoomd-organics/hoomd_organics/__init__.py\u001b[0m in \u001b[0;36m<module>\u001b[0;34m\u001b[0m\n\u001b[1;32m      1\u001b[0m \u001b[0;34m\"\"\"hoomd_organics package.\"\"\"\u001b[0m\u001b[0;34m\u001b[0m\u001b[0;34m\u001b[0m\u001b[0m\n\u001b[0;32m----> 2\u001b[0;31m from .base import (\n\u001b[0m\u001b[1;32m      3\u001b[0m     \u001b[0mCoPolymer\u001b[0m\u001b[0;34m,\u001b[0m\u001b[0;34m\u001b[0m\u001b[0;34m\u001b[0m\u001b[0m\n\u001b[1;32m      4\u001b[0m     \u001b[0mLattice\u001b[0m\u001b[0;34m,\u001b[0m\u001b[0;34m\u001b[0m\u001b[0;34m\u001b[0m\u001b[0m\n\u001b[1;32m      5\u001b[0m     \u001b[0mMolecule\u001b[0m\u001b[0;34m,\u001b[0m\u001b[0;34m\u001b[0m\u001b[0;34m\u001b[0m\u001b[0m\n",
            "\u001b[0;32m/content/hoomd-organics/hoomd_organics/base/__init__.py\u001b[0m in \u001b[0;36m<module>\u001b[0;34m\u001b[0m\n\u001b[1;32m      1\u001b[0m \u001b[0;34m\"\"\"Base classes for hoomd_organics.\"\"\"\u001b[0m\u001b[0;34m\u001b[0m\u001b[0;34m\u001b[0m\u001b[0m\n\u001b[0;32m----> 2\u001b[0;31m \u001b[0;32mfrom\u001b[0m \u001b[0;34m.\u001b[0m\u001b[0mmolecule\u001b[0m \u001b[0;32mimport\u001b[0m \u001b[0mCoPolymer\u001b[0m\u001b[0;34m,\u001b[0m \u001b[0mMolecule\u001b[0m\u001b[0;34m,\u001b[0m \u001b[0mPolymer\u001b[0m\u001b[0;34m\u001b[0m\u001b[0;34m\u001b[0m\u001b[0m\n\u001b[0m\u001b[1;32m      3\u001b[0m \u001b[0;32mfrom\u001b[0m \u001b[0;34m.\u001b[0m\u001b[0msimulation\u001b[0m \u001b[0;32mimport\u001b[0m \u001b[0mSimulation\u001b[0m\u001b[0;34m\u001b[0m\u001b[0;34m\u001b[0m\u001b[0m\n\u001b[1;32m      4\u001b[0m \u001b[0;32mfrom\u001b[0m \u001b[0;34m.\u001b[0m\u001b[0msystem\u001b[0m \u001b[0;32mimport\u001b[0m \u001b[0mLattice\u001b[0m\u001b[0;34m,\u001b[0m \u001b[0mPack\u001b[0m\u001b[0;34m,\u001b[0m \u001b[0mSystem\u001b[0m\u001b[0;34m\u001b[0m\u001b[0;34m\u001b[0m\u001b[0m\n",
            "\u001b[0;32m/content/hoomd-organics/hoomd_organics/base/molecule.py\u001b[0m in \u001b[0;36m<module>\u001b[0;34m\u001b[0m\n\u001b[1;32m      5\u001b[0m \u001b[0;32mfrom\u001b[0m \u001b[0mtyping\u001b[0m \u001b[0;32mimport\u001b[0m \u001b[0mList\u001b[0m\u001b[0;34m\u001b[0m\u001b[0;34m\u001b[0m\u001b[0m\n\u001b[1;32m      6\u001b[0m \u001b[0;34m\u001b[0m\u001b[0m\n\u001b[0;32m----> 7\u001b[0;31m \u001b[0;32mimport\u001b[0m \u001b[0mmbuild\u001b[0m \u001b[0;32mas\u001b[0m \u001b[0mmb\u001b[0m\u001b[0;34m\u001b[0m\u001b[0;34m\u001b[0m\u001b[0m\n\u001b[0m\u001b[1;32m      8\u001b[0m \u001b[0;32mfrom\u001b[0m \u001b[0mgmso\u001b[0m\u001b[0;34m.\u001b[0m\u001b[0mcore\u001b[0m\u001b[0;34m.\u001b[0m\u001b[0mtopology\u001b[0m \u001b[0;32mimport\u001b[0m \u001b[0mTopology\u001b[0m\u001b[0;34m\u001b[0m\u001b[0;34m\u001b[0m\u001b[0m\n\u001b[1;32m      9\u001b[0m \u001b[0;32mfrom\u001b[0m \u001b[0mgmso\u001b[0m\u001b[0;34m.\u001b[0m\u001b[0mexternal\u001b[0m\u001b[0;34m.\u001b[0m\u001b[0mconvert_mbuild\u001b[0m \u001b[0;32mimport\u001b[0m \u001b[0mfrom_mbuild\u001b[0m\u001b[0;34m,\u001b[0m \u001b[0mto_mbuild\u001b[0m\u001b[0;34m\u001b[0m\u001b[0;34m\u001b[0m\u001b[0m\n",
            "\u001b[0;31mModuleNotFoundError\u001b[0m: No module named 'mbuild'",
            "",
            "\u001b[0;31m---------------------------------------------------------------------------\u001b[0;32m\nNOTE: If your import is failing due to a missing package, you can\nmanually install dependencies using either !pip or !apt.\n\nTo view examples of installing some common dependencies, click the\n\"Open Examples\" button below.\n\u001b[0;31m---------------------------------------------------------------------------\u001b[0m\n"
          ],
          "errorDetails": {
            "actions": [
              {
                "action": "open_url",
                "actionText": "Open Examples",
                "url": "/notebooks/snippets/importing_libraries.ipynb"
              }
            ]
          }
        }
      ],
      "source": [
        "from hoomd_organics.library import PPS, OPLS_AA_PPS\n",
        "from hoomd_organics import Pack, Simulation\n",
        "from cmeutils.visualize import FresnelGSD\n",
        "\n",
        "molecules = PPS(num_mols=30, lengths=8)\n",
        "system = Pack(molecules=molecules, force_field=OPLS_AA_PPS(), density=0.8, r_cut=2.5, auto_scale=True, scale_charges=True, packing_expand_factor=5)\n",
        "pps_ff = system.hoomd_forcefield\n",
        "sim = Simulation(initial_state=system.hoomd_snapshot, forcefield=pps_ff, gsd_write_freq=100, log_write_freq=100, gsd_file_name=\"pps.gsd\")\n",
        "sim.run_update_volume(n_steps=1000, period=1, kT=1, tau_kt=1, final_box_lengths=system.target_box)\n",
        "sim.run_NVT(n_steps=1000, kT=1.0, tau_kt=0.01)\n",
        "viz = FresnelGSD(\"pps.gsd\")\n",
        "viz.frame = -1 # python convention for last element\n",
        "viz.view()\n"
      ]
    },
    {
      "cell_type": "markdown",
      "source": [
        "In the above example, a lot of functionality is provided by two key imports: `PPS`, `and OPLS_AA_PPS`. `PPS()` uses `mBuild` tools to initialize PPS chemistries specificially, and `OPLS_AA_PPS` is an instance of a `foyer.Forcefield` that provides the subset of parameters from OPLS_AA needed by PPS specifically.\n",
        "\n",
        "In the next sections we'll explore each of these components in some more depth."
      ],
      "metadata": {
        "id": "sXL38pTAjMJn"
      }
    },
    {
      "cell_type": "code",
      "source": [
        "#Can play around visualizing other frames here\n",
        "viz.frame = 2 #Here the frames run from 0-20: 1 initial configuration, 10 frames from the volume shrink, and 10 frames from the NVT run.\n",
        "viz.view()"
      ],
      "metadata": {
        "id": "jxDSuR-OW8-j"
      },
      "execution_count": null,
      "outputs": []
    },
    {
      "cell_type": "markdown",
      "metadata": {
        "id": "I7mTNoq0m0WG"
      },
      "source": [
        "# __2. Defining Molecules__\n",
        "---\n",
        "What other ways can we initialize molecules in simulation volumes?\n",
        "\n",
        "Above, we used the `PPS` class, a subclass of the `hoomd-organics` `Molecule` class. This class includes all the necessary information about the PPS molecule, including the monomer structure and how the monomers bond to create a chain. All we needed was to specify is the polymer length and how many polymer chains we want to create in the `PPS()` constructor.\n",
        "\n",
        "You can also define your own molecule(s):\n",
        "- Using the SMILES string of the molecule\n",
        "- Using the molecule file (accepted formats are: `.mol2` and `.sdf`)\n",
        "- Using a [`mbuild`](https://mbuild.mosdef.org/en/stable/) compound or a [`gmso`](https://gmso.mosdef.org/en/stable/) topology\n",
        "- By defining your own subclass of `Molecule`, such as [PPS](https://github.com/cmelab/hoomd-organics/blob/e709be850cc2e818f817243bc82e5414465d0e6b/hoomd_organics/library/polymers.py#L35).\n",
        "\n",
        "## __Exercise 2.1__\n",
        "\n",
        "Use the template code below to initialize some copies of a molecule using SMILES strings. Put your blue sticky note up on your laptop when you've been able to explore a bit. Put up your pink sticky note or file an issue at [github](https://github.com/cmelab/hoomd-organics/issues) if you run into any problems!\n",
        "\n",
        "### <font color=\"red\"><b>Exercise 2.1 Hint </b></font>\n",
        "<details>\n",
        "<summary>Click here for help.</summary>\n",
        "Replace \"YOUR_SMILES_HERE\" with a valid smiles string such as \"c1cc(C(O)=O)ccc1\" to initialize `num_mols` instances of that molecule.\n",
        "</details>\n"
      ]
    },
    {
      "cell_type": "code",
      "execution_count": null,
      "metadata": {
        "id": "Nuz3p7oEm0WG"
      },
      "outputs": [],
      "source": [
        "# example of loading molecule(s) using the SMILES string and visualizing it\n",
        "from hoomd_organics import Molecule\n",
        "benzoic_acid_mol = Molecule(num_mols=20, smiles=\"YOUR_SMILES_HERE\") #\n",
        "benzoic_acid_mol.molecules[0].visualize()"
      ]
    },
    {
      "cell_type": "markdown",
      "source": [
        "## 2.2 Initializing molecules from `mol2` or `sdf` files\n"
      ],
      "metadata": {
        "id": "_mExjG_saK_D"
      }
    },
    {
      "cell_type": "code",
      "source": [
        "# example of loading a molecule using a mol2 file\n",
        "# If you have another mol2 or sdf file accessible over the web, you can wget it as below:\n",
        "#!wget https://raw.githubusercontent.com/cmelab/hoomd-organics/main/hoomd_organics/assets/molecule_files/IPH.mol2\n",
        "phenol_mol = Molecule(num_mols=20, file=\"hoomd_organics/assets/molecule_files/IPH.mol2\")\n",
        "phenol_mol.molecules[0].visualize()"
      ],
      "metadata": {
        "id": "VpbwAr3_ajsx"
      },
      "execution_count": null,
      "outputs": []
    },
    {
      "cell_type": "markdown",
      "metadata": {
        "id": "GZbX4E6am0WO"
      },
      "source": [
        "## 2.3:  Initializing from a [`mbuild`](https://mbuild.mosdef.org/en/stable/) compound or a [`gmso`](https://gmso.mosdef.org/en/stable/) topology"
      ]
    },
    {
      "cell_type": "code",
      "source": [
        "# example of loading a molecule from mbuild compound or gmso topology\n",
        "import mbuild as mb\n",
        "mb_compound = mb.load(\"c1ccccc1\", smiles=True) #let's doublecheck benzene\n",
        "gmso_top = mb_compound.to_gmso()\n",
        "benzene_mol = Molecule(num_mols=20, compound=mb_compound)\n",
        "benzene_mol = Molecule(num_mols=20, compound=gmso_top)"
      ],
      "metadata": {
        "id": "ZCxinZPn6uCp"
      },
      "execution_count": null,
      "outputs": []
    },
    {
      "cell_type": "markdown",
      "metadata": {
        "id": "8dovv5Gsm0WH"
      },
      "source": [
        "#__3. Defining and inspecting systems__\n",
        "\n",
        "How did we use the molecules created above to initialize a simulation volume that was then used to run an MD simulation?\n",
        "\n",
        "The `Pack` class, which is a subclass of the `System` class, is used to pack a box of PPS molecules given a density. The `System` class provides code to create the simulation volume and fill it with molecules, applies the force-field (if provided) to the system and creates the initial state of the system in the form a `gsd` snapshot.\n",
        "\n",
        "If the force-field is provided, `Pack` also gets the list of forces that defines the bonded and non-bonded interactions between the particles.\n",
        "\n",
        "In this example, we passed the molecules object created in section 1.1 to pack a box with density=0.8.\n",
        "Let's visualize this initial configuration:"
      ]
    },
    {
      "cell_type": "code",
      "source": [
        "system.system.visualize()"
      ],
      "metadata": {
        "id": "KBWX4EWVmcwE"
      },
      "execution_count": null,
      "outputs": []
    },
    {
      "cell_type": "markdown",
      "source": [
        "## 3.1 Inspecting forces\n",
        "\n",
        "Let's see what values of sigma and epsilon were used to parameterize the Lennard-Jones potential in our simulation.\n",
        "\n",
        "To get this information, we access forcefield information, which we stored in `pps_ff` earlier, calling `system.hoomd_forcefield`.\n",
        "\n",
        "By accessing `pps_ff` we can see which forcefield components are stored in which elements of the list:"
      ],
      "metadata": {
        "id": "RHQnYw0FCkY4"
      }
    },
    {
      "cell_type": "code",
      "source": [
        "pps_ff"
      ],
      "metadata": {
        "id": "YngdrfCCCjvG"
      },
      "execution_count": null,
      "outputs": []
    },
    {
      "cell_type": "markdown",
      "source": [
        "## __Activity 3.1__\n",
        "and then we can view the parameters (`params`) of the LJ pair forces as a dictionary:\n",
        "\n",
        "### <font color=\"red\"><b>Exercise 3.1 Hint </b></font>\n",
        "<details>\n",
        "<summary>Click here for help.</summary>\n",
        "\n",
        "We'll replace \"INDEX\" with the index of the forcefield element we wish to inspect. From the previous cell we can see that LJ pair forces are stored in `pps_ff[3]`, so we'll pass the parameters `pps_ff[3].params` to the dict() funtion to summarize them.\n",
        "</details>"
      ],
      "metadata": {
        "id": "pRoWvuVK5zuQ"
      }
    },
    {
      "cell_type": "code",
      "source": [
        "dict(pps_ff[INDEX].params)"
      ],
      "metadata": {
        "id": "pMlD4cYXxr0u"
      },
      "execution_count": null,
      "outputs": []
    },
    {
      "cell_type": "markdown",
      "metadata": {
        "id": "Dm-Oinrpm0WP"
      },
      "source": [
        "# __4. Specifying your own systems__\n",
        "## 4.1  Defining forcefields\n",
        "`hoomd-organics` package has a list of pre-defined force-fields that can be used to initialize the system. If you have the `xml` file of the forcefield, you can use the `FF_from_file` class from `hoomd_organics.library` to create a force-field object.\n",
        "You can also define your own forcefield by creating a subclass of the `foyer.Forcefield` class.\n"
      ]
    },
    {
      "cell_type": "code",
      "execution_count": null,
      "metadata": {
        "id": "X0LiJGRYm0WP",
        "outputId": "a4cde42f-90d9-49b9-de2c-23e62bba080e",
        "colab": {
          "base_uri": "https://localhost:8080/"
        }
      },
      "outputs": [
        {
          "output_type": "stream",
          "name": "stderr",
          "text": [
            "/usr/local/lib/python3.10/dist-packages/ipykernel/ipkernel.py:283: DeprecationWarning: `should_run_async` will not call `transform_cell` automatically in the future. Please pass the result to `transformed_cell` argument and any exception that happen during thetransform in `preprocessing_exc_tuple` in IPython 7.17 and above.\n",
            "  and should_run_async(code)\n"
          ]
        }
      ],
      "source": [
        "from hoomd_organics.library import FF_from_file\n",
        "benzene_ff = FF_from_file(xml_file=\"hoomd_organics/assets/forcefields/benzene_opls.xml\")"
      ]
    },
    {
      "cell_type": "markdown",
      "metadata": {
        "id": "TL0bqmJpm0WP"
      },
      "source": [
        "Checkout `hoomd_organics/library/forcefields.py` for more some examples of defining a forcefield using a subclass of `foyer.Forcefield` for specific molecules."
      ]
    },
    {
      "cell_type": "markdown",
      "metadata": {
        "id": "jOrDAtbam0WQ"
      },
      "source": [
        "##4.2. Creating initial configurations\n"
      ]
    },
    {
      "cell_type": "markdown",
      "metadata": {
        "id": "ackzW76vm0WQ"
      },
      "source": [
        "`hoomd_organics` package has two methods of filling the box built in the `System` class: `Pack` and `Lattice`. We used `Pack` above, which leverages an `mBuild` interface to packmol. `Lattice` is demonstrated below:"
      ]
    },
    {
      "cell_type": "code",
      "execution_count": null,
      "metadata": {
        "id": "oesp52zUm0WQ"
      },
      "outputs": [],
      "source": [
        "# example of defining a system using the Lattice method\n",
        "\n",
        "from hoomd_organics import Lattice\n",
        "from hoomd_organics.library import OPLS_AA\n",
        "\n",
        "benzene_mol = Molecule(num_mols=32, smiles=\"c1ccccc1\")\n",
        "\n",
        "lattice = Lattice(\n",
        "            molecules=[benzene_mol],\n",
        "            force_field=OPLS_AA(),\n",
        "            density=1.0,\n",
        "            r_cut=2.5,\n",
        "            x=1,\n",
        "            y=2,\n",
        "            n=4,\n",
        "            auto_scale=True\n",
        "        )\n",
        "lattice.system.visualize()"
      ]
    },
    {
      "cell_type": "markdown",
      "metadata": {
        "id": "dmpAu5ZWm0WR"
      },
      "source": [
        "##4.3. Systems with multiple molecule types\n",
        "\n",
        "You can also define your own method of filling the box by creating a subclass of the `System` class. For example, one method of filling a box with two types of molecule is creating alternate layers of each molecule type."
      ]
    },
    {
      "cell_type": "markdown",
      "metadata": {
        "id": "ImzX3hl7m0WR"
      },
      "source": [
        "The system class can take a list of different molecule types along with different forcefields. If all molecule types use the same forcefield, then you only need to pass the forcefield once."
      ]
    },
    {
      "cell_type": "code",
      "execution_count": null,
      "metadata": {
        "id": "I2cgjZGkm0WS",
        "outputId": "d663f39c-606b-484c-cbd4-e0029606ae90",
        "colab": {
          "base_uri": "https://localhost:8080/"
        }
      },
      "outputs": [
        {
          "output_type": "stream",
          "name": "stderr",
          "text": [
            "/usr/local/lib/python3.10/dist-packages/ipykernel/ipkernel.py:283: DeprecationWarning: `should_run_async` will not call `transform_cell` automatically in the future. Please pass the result to `transformed_cell` argument and any exception that happen during thetransform in `preprocessing_exc_tuple` in IPython 7.17 and above.\n",
            "  and should_run_async(code)\n"
          ]
        }
      ],
      "source": [
        "#!wget https://github.com/cmelab/hoomd-organics/raw/main/hoomd_organics/assets/forcefields/dimethylether_opls.xml\n",
        "from hoomd_organics.library import OPLS_AA_DIMETHYLETHER\n",
        "dimethylether_mol = Molecule(num_mols=20, smiles=\"COC\")\n",
        "pps_mol = PPS(num_mols=10, lengths=4)\n",
        "multi_type_system = Pack(\n",
        "    molecules=[dimethylether_mol, pps_mol], #specify numbers of molecules in constructors above\n",
        "    density=0.8,\n",
        "    r_cut=2.5,\n",
        "    force_field=[OPLS_AA_DIMETHYLETHER(), OPLS_AA_PPS()],\n",
        "    auto_scale=True,\n",
        ")\n",
        "multi_type_system.system.visualize()"
      ]
    },
    {
      "cell_type": "markdown",
      "source": [
        "# __5. Coarse-graining__\n",
        "---\n",
        "In the following example, we'll demonstrate how to generate a coarse-grained representation of a molecule, apply it to a simulation volume, define a forcefield for that coarse representation, and run a HOOMD simulation with it."
      ],
      "metadata": {
        "id": "3MIzv_se8ma3"
      }
    },
    {
      "cell_type": "code",
      "source": [
        "from hoomd_organics.base import Pack, Simulation\n",
        "from hoomd_organics.library import PPS, BeadSpring\n",
        "pps_mol = PPS(num_mols=300, lengths=6)\n",
        "pps_mol.molecules[0].visualize()"
      ],
      "metadata": {
        "id": "X9IoxNmcDHY3",
        "colab": {
          "base_uri": "https://localhost:8080/",
          "height": 572
        },
        "outputId": "7422b227-8db2-47e1-9ae1-78c7e93b5e9a"
      },
      "execution_count": null,
      "outputs": [
        {
          "output_type": "stream",
          "name": "stderr",
          "text": [
            "/usr/local/lib/python3.10/dist-packages/ipykernel/ipkernel.py:283: DeprecationWarning: `should_run_async` will not call `transform_cell` automatically in the future. Please pass the result to `transformed_cell` argument and any exception that happen during thetransform in `preprocessing_exc_tuple` in IPython 7.17 and above.\n",
            "  and should_run_async(code)\n"
          ]
        },
        {
          "output_type": "display_data",
          "data": {
            "application/3dmoljs_load.v0": "<div id=\"3dmolviewer_16952471750795574\"  style=\"position: relative; width: 640px; height: 480px\">\n        <p id=\"3dmolwarning_16952471750795574\" style=\"background-color:#ffcccc;color:black\">You appear to be running in JupyterLab (or JavaScript failed to load for some other reason).  You need to install the 3dmol extension: <br>\n        <tt>jupyter labextension install jupyterlab_3dmol</tt></p>\n        </div>\n<script>\n\nvar loadScriptAsync = function(uri){\n  return new Promise((resolve, reject) => {\n    //this is to ignore the existence of requirejs amd\n    var savedexports, savedmodule;\n    if (typeof exports !== 'undefined') savedexports = exports;\n    else exports = {}\n    if (typeof module !== 'undefined') savedmodule = module;\n    else module = {}\n\n    var tag = document.createElement('script');\n    tag.src = uri;\n    tag.async = true;\n    tag.onload = () => {\n        exports = savedexports;\n        module = savedmodule;\n        resolve();\n    };\n  var firstScriptTag = document.getElementsByTagName('script')[0];\n  firstScriptTag.parentNode.insertBefore(tag, firstScriptTag);\n});\n};\n\nif(typeof $3Dmolpromise === 'undefined') {\n$3Dmolpromise = null;\n  $3Dmolpromise = loadScriptAsync('https://cdnjs.cloudflare.com/ajax/libs/3Dmol/2.0.1/3Dmol-min.js');\n}\n\nvar viewer_16952471750795574 = null;\nvar warn = document.getElementById(\"3dmolwarning_16952471750795574\");\nif(warn) {\n    warn.parentNode.removeChild(warn);\n}\n$3Dmolpromise.then(function() {\nviewer_16952471750795574 = $3Dmol.createViewer(document.getElementById(\"3dmolviewer_16952471750795574\"),{backgroundColor:\"white\"});\nviewer_16952471750795574.zoomTo();\n\tviewer_16952471750795574.addModel(\"@<TRIPOS>MOLECULE\\nRES\\n68 73 1 0 1\\nSMALL\\nNO_CHARGES\\n@<TRIPOS>CRYSIN\\n    9.3059     6.0685    43.5037    90.0000    90.0000    90.0000 1 1\\n@<TRIPOS>ATOM\\n       1 C           -0.0000     0.0421     1.7051 C             1 RES     \\n       2 C            1.2113     0.0692     1.0063 C             1 RES     \\n       3 C            1.2122     0.1236    -0.3915 C             1 RES     \\n       4 C           -0.0000     0.1505    -1.0924 C             1 RES     \\n       5 S            0.0000     0.2202    -2.8809 S             1 RES     \\n       6 C           -1.2122     0.1236    -0.3915 C             1 RES     \\n       7 C           -1.2113     0.0693     1.0063 C             1 RES     \\n       8 H            2.1484     0.0482     1.5475 H             1 RES     \\n       9 H            2.1529     0.1442    -0.9269 H             1 RES     \\n      10 H           -2.1529     0.1442    -0.9269 H             1 RES     \\n      11 H           -2.1484     0.0482     1.5475 H             1 RES     \\n      12 C            0.0000     0.2202    -4.6409 C             1 RES     \\n      13 C            1.2113     0.2473    -5.3396 C             1 RES     \\n      14 C            1.2122     0.3017    -6.7374 C             1 RES     \\n      15 C            0.0000     0.3286    -7.4383 C             1 RES     \\n      16 S            0.0000     0.3982    -9.2268 S             1 RES     \\n      17 C           -1.2122     0.3017    -6.7374 C             1 RES     \\n      18 C           -1.2113     0.2473    -5.3396 C             1 RES     \\n      19 H            2.1484     0.2263    -4.7985 H             1 RES     \\n      20 H            2.1529     0.3223    -7.2728 H             1 RES     \\n      21 H           -2.1529     0.3223    -7.2728 H             1 RES     \\n      22 H           -2.1484     0.2263    -4.7985 H             1 RES     \\n      23 C            0.0000     0.3982   -10.9868 C             1 RES     \\n      24 C            1.2113     0.4254   -11.6856 C             1 RES     \\n      25 C            1.2122     0.4798   -13.0834 C             1 RES     \\n      26 C            0.0000     0.5067   -13.7843 C             1 RES     \\n      27 S            0.0000     0.5763   -15.5728 S             1 RES     \\n      28 C           -1.2122     0.4798   -13.0834 C             1 RES     \\n      29 C           -1.2113     0.4254   -11.6856 C             1 RES     \\n      30 H            2.1484     0.4044   -11.1444 H             1 RES     \\n      31 H            2.1529     0.5004   -13.6187 H             1 RES     \\n      32 H           -2.1529     0.5004   -13.6187 H             1 RES     \\n      33 H           -2.1484     0.4044   -11.1444 H             1 RES     \\n      34 C            0.0000     0.5763   -17.3328 C             1 RES     \\n      35 C            1.2113     0.6035   -18.0315 C             1 RES     \\n      36 C            1.2122     0.6579   -19.4293 C             1 RES     \\n      37 C            0.0000     0.6848   -20.1302 C             1 RES     \\n      38 S            0.0000     0.7544   -21.9187 S             1 RES     \\n      39 C           -1.2122     0.6579   -19.4293 C             1 RES     \\n      40 C           -1.2113     0.6035   -18.0315 C             1 RES     \\n      41 H            2.1484     0.5825   -17.4904 H             1 RES     \\n      42 H            2.1529     0.6784   -19.9647 H             1 RES     \\n      43 H           -2.1529     0.6785   -19.9647 H             1 RES     \\n      44 H           -2.1484     0.5825   -17.4904 H             1 RES     \\n      45 C            0.0000     0.7544   -23.6787 C             1 RES     \\n      46 C            1.2113     0.7816   -24.3775 C             1 RES     \\n      47 C            1.2122     0.8360   -25.7753 C             1 RES     \\n      48 C            0.0000     0.8629   -26.4762 C             1 RES     \\n      49 S            0.0000     0.9325   -28.2647 S             1 RES     \\n      50 C           -1.2122     0.8360   -25.7753 C             1 RES     \\n      51 C           -1.2113     0.7816   -24.3775 C             1 RES     \\n      52 H            2.1484     0.7606   -23.8363 H             1 RES     \\n      53 H            2.1529     0.8565   -26.3106 H             1 RES     \\n      54 H           -2.1529     0.8565   -26.3106 H             1 RES     \\n      55 H           -2.1484     0.7606   -23.8363 H             1 RES     \\n      56 C            0.0000     0.9325   -30.0247 C             1 RES     \\n      57 C            1.2113     0.9597   -30.7234 C             1 RES     \\n      58 C            1.2122     1.0140   -32.1212 C             1 RES     \\n      59 C            0.0000     1.0410   -32.8221 C             1 RES     \\n      60 S            0.0000     1.1106   -34.6106 S             1 RES     \\n      61 C           -1.2122     1.0140   -32.1212 C             1 RES     \\n      62 C           -1.2113     0.9597   -30.7234 C             1 RES     \\n      63 H            2.1484     0.9387   -30.1823 H             1 RES     \\n      64 H            2.1529     1.0346   -32.6566 H             1 RES     \\n      65 H           -2.1529     1.0346   -32.6566 H             1 RES     \\n      66 H           -2.1484     0.9387   -30.1823 H             1 RES     \\n      67 H           -0.0000     0.0421     2.7991 H             1 RES     \\n      68 H            0.0000     1.1106   -35.7046 H             1 RES     \\n@<TRIPOS>BOND\\n       1        1        2 1\\n       2        1        7 1\\n       3        1       67 1\\n       4        2        3 1\\n       5        2        8 1\\n       6        3        4 1\\n       7        3        9 1\\n       8        4        5 1\\n       9        4        6 1\\n      10        5       12 1\\n      11        6        7 1\\n      12        6       10 1\\n      13        7       11 1\\n      14       12       13 1\\n      15       12       18 1\\n      16       13       14 1\\n      17       13       19 1\\n      18       14       15 1\\n      19       14       20 1\\n      20       15       16 1\\n      21       15       17 1\\n      22       16       23 1\\n      23       17       18 1\\n      24       17       21 1\\n      25       18       22 1\\n      26       23       24 1\\n      27       23       29 1\\n      28       24       25 1\\n      29       24       30 1\\n      30       25       26 1\\n      31       25       31 1\\n      32       26       27 1\\n      33       26       28 1\\n      34       27       34 1\\n      35       28       29 1\\n      36       28       32 1\\n      37       29       33 1\\n      38       34       35 1\\n      39       34       40 1\\n      40       35       36 1\\n      41       35       41 1\\n      42       36       37 1\\n      43       36       42 1\\n      44       37       38 1\\n      45       37       39 1\\n      46       38       45 1\\n      47       39       40 1\\n      48       39       43 1\\n      49       40       44 1\\n      50       45       46 1\\n      51       45       51 1\\n      52       46       47 1\\n      53       46       52 1\\n      54       47       48 1\\n      55       47       53 1\\n      56       48       49 1\\n      57       48       50 1\\n      58       49       56 1\\n      59       50       51 1\\n      60       50       54 1\\n      61       51       55 1\\n      62       56       57 1\\n      63       56       62 1\\n      64       57       58 1\\n      65       57       63 1\\n      66       58       59 1\\n      67       58       64 1\\n      68       59       60 1\\n      69       59       61 1\\n      70       60       68 1\\n      71       61       62 1\\n      72       61       65 1\\n      73       62       66 1\\n@<TRIPOS>SUBSTRUCTURE\\n       1 RES             1 RESIDUE    0 **** ROOT      0\\n\",\"mol2\");\n\tviewer_16952471750795574.setStyle({\"stick\": {\"radius\": 0.2, \"color\": \"grey\"}, \"sphere\": {\"scale\": 0.3, \"colorscheme\": {}}});\n\tviewer_16952471750795574.zoomTo();\nviewer_16952471750795574.render();\n});\n</script>",
            "text/html": [
              "<div id=\"3dmolviewer_16952471750795574\"  style=\"position: relative; width: 640px; height: 480px\">\n",
              "        <p id=\"3dmolwarning_16952471750795574\" style=\"background-color:#ffcccc;color:black\">You appear to be running in JupyterLab (or JavaScript failed to load for some other reason).  You need to install the 3dmol extension: <br>\n",
              "        <tt>jupyter labextension install jupyterlab_3dmol</tt></p>\n",
              "        </div>\n",
              "<script>\n",
              "\n",
              "var loadScriptAsync = function(uri){\n",
              "  return new Promise((resolve, reject) => {\n",
              "    //this is to ignore the existence of requirejs amd\n",
              "    var savedexports, savedmodule;\n",
              "    if (typeof exports !== 'undefined') savedexports = exports;\n",
              "    else exports = {}\n",
              "    if (typeof module !== 'undefined') savedmodule = module;\n",
              "    else module = {}\n",
              "\n",
              "    var tag = document.createElement('script');\n",
              "    tag.src = uri;\n",
              "    tag.async = true;\n",
              "    tag.onload = () => {\n",
              "        exports = savedexports;\n",
              "        module = savedmodule;\n",
              "        resolve();\n",
              "    };\n",
              "  var firstScriptTag = document.getElementsByTagName('script')[0];\n",
              "  firstScriptTag.parentNode.insertBefore(tag, firstScriptTag);\n",
              "});\n",
              "};\n",
              "\n",
              "if(typeof $3Dmolpromise === 'undefined') {\n",
              "$3Dmolpromise = null;\n",
              "  $3Dmolpromise = loadScriptAsync('https://cdnjs.cloudflare.com/ajax/libs/3Dmol/2.0.1/3Dmol-min.js');\n",
              "}\n",
              "\n",
              "var viewer_16952471750795574 = null;\n",
              "var warn = document.getElementById(\"3dmolwarning_16952471750795574\");\n",
              "if(warn) {\n",
              "    warn.parentNode.removeChild(warn);\n",
              "}\n",
              "$3Dmolpromise.then(function() {\n",
              "viewer_16952471750795574 = $3Dmol.createViewer(document.getElementById(\"3dmolviewer_16952471750795574\"),{backgroundColor:\"white\"});\n",
              "viewer_16952471750795574.zoomTo();\n",
              "\tviewer_16952471750795574.addModel(\"@<TRIPOS>MOLECULE\\nRES\\n68 73 1 0 1\\nSMALL\\nNO_CHARGES\\n@<TRIPOS>CRYSIN\\n    9.3059     6.0685    43.5037    90.0000    90.0000    90.0000 1 1\\n@<TRIPOS>ATOM\\n       1 C           -0.0000     0.0421     1.7051 C             1 RES     \\n       2 C            1.2113     0.0692     1.0063 C             1 RES     \\n       3 C            1.2122     0.1236    -0.3915 C             1 RES     \\n       4 C           -0.0000     0.1505    -1.0924 C             1 RES     \\n       5 S            0.0000     0.2202    -2.8809 S             1 RES     \\n       6 C           -1.2122     0.1236    -0.3915 C             1 RES     \\n       7 C           -1.2113     0.0693     1.0063 C             1 RES     \\n       8 H            2.1484     0.0482     1.5475 H             1 RES     \\n       9 H            2.1529     0.1442    -0.9269 H             1 RES     \\n      10 H           -2.1529     0.1442    -0.9269 H             1 RES     \\n      11 H           -2.1484     0.0482     1.5475 H             1 RES     \\n      12 C            0.0000     0.2202    -4.6409 C             1 RES     \\n      13 C            1.2113     0.2473    -5.3396 C             1 RES     \\n      14 C            1.2122     0.3017    -6.7374 C             1 RES     \\n      15 C            0.0000     0.3286    -7.4383 C             1 RES     \\n      16 S            0.0000     0.3982    -9.2268 S             1 RES     \\n      17 C           -1.2122     0.3017    -6.7374 C             1 RES     \\n      18 C           -1.2113     0.2473    -5.3396 C             1 RES     \\n      19 H            2.1484     0.2263    -4.7985 H             1 RES     \\n      20 H            2.1529     0.3223    -7.2728 H             1 RES     \\n      21 H           -2.1529     0.3223    -7.2728 H             1 RES     \\n      22 H           -2.1484     0.2263    -4.7985 H             1 RES     \\n      23 C            0.0000     0.3982   -10.9868 C             1 RES     \\n      24 C            1.2113     0.4254   -11.6856 C             1 RES     \\n      25 C            1.2122     0.4798   -13.0834 C             1 RES     \\n      26 C            0.0000     0.5067   -13.7843 C             1 RES     \\n      27 S            0.0000     0.5763   -15.5728 S             1 RES     \\n      28 C           -1.2122     0.4798   -13.0834 C             1 RES     \\n      29 C           -1.2113     0.4254   -11.6856 C             1 RES     \\n      30 H            2.1484     0.4044   -11.1444 H             1 RES     \\n      31 H            2.1529     0.5004   -13.6187 H             1 RES     \\n      32 H           -2.1529     0.5004   -13.6187 H             1 RES     \\n      33 H           -2.1484     0.4044   -11.1444 H             1 RES     \\n      34 C            0.0000     0.5763   -17.3328 C             1 RES     \\n      35 C            1.2113     0.6035   -18.0315 C             1 RES     \\n      36 C            1.2122     0.6579   -19.4293 C             1 RES     \\n      37 C            0.0000     0.6848   -20.1302 C             1 RES     \\n      38 S            0.0000     0.7544   -21.9187 S             1 RES     \\n      39 C           -1.2122     0.6579   -19.4293 C             1 RES     \\n      40 C           -1.2113     0.6035   -18.0315 C             1 RES     \\n      41 H            2.1484     0.5825   -17.4904 H             1 RES     \\n      42 H            2.1529     0.6784   -19.9647 H             1 RES     \\n      43 H           -2.1529     0.6785   -19.9647 H             1 RES     \\n      44 H           -2.1484     0.5825   -17.4904 H             1 RES     \\n      45 C            0.0000     0.7544   -23.6787 C             1 RES     \\n      46 C            1.2113     0.7816   -24.3775 C             1 RES     \\n      47 C            1.2122     0.8360   -25.7753 C             1 RES     \\n      48 C            0.0000     0.8629   -26.4762 C             1 RES     \\n      49 S            0.0000     0.9325   -28.2647 S             1 RES     \\n      50 C           -1.2122     0.8360   -25.7753 C             1 RES     \\n      51 C           -1.2113     0.7816   -24.3775 C             1 RES     \\n      52 H            2.1484     0.7606   -23.8363 H             1 RES     \\n      53 H            2.1529     0.8565   -26.3106 H             1 RES     \\n      54 H           -2.1529     0.8565   -26.3106 H             1 RES     \\n      55 H           -2.1484     0.7606   -23.8363 H             1 RES     \\n      56 C            0.0000     0.9325   -30.0247 C             1 RES     \\n      57 C            1.2113     0.9597   -30.7234 C             1 RES     \\n      58 C            1.2122     1.0140   -32.1212 C             1 RES     \\n      59 C            0.0000     1.0410   -32.8221 C             1 RES     \\n      60 S            0.0000     1.1106   -34.6106 S             1 RES     \\n      61 C           -1.2122     1.0140   -32.1212 C             1 RES     \\n      62 C           -1.2113     0.9597   -30.7234 C             1 RES     \\n      63 H            2.1484     0.9387   -30.1823 H             1 RES     \\n      64 H            2.1529     1.0346   -32.6566 H             1 RES     \\n      65 H           -2.1529     1.0346   -32.6566 H             1 RES     \\n      66 H           -2.1484     0.9387   -30.1823 H             1 RES     \\n      67 H           -0.0000     0.0421     2.7991 H             1 RES     \\n      68 H            0.0000     1.1106   -35.7046 H             1 RES     \\n@<TRIPOS>BOND\\n       1        1        2 1\\n       2        1        7 1\\n       3        1       67 1\\n       4        2        3 1\\n       5        2        8 1\\n       6        3        4 1\\n       7        3        9 1\\n       8        4        5 1\\n       9        4        6 1\\n      10        5       12 1\\n      11        6        7 1\\n      12        6       10 1\\n      13        7       11 1\\n      14       12       13 1\\n      15       12       18 1\\n      16       13       14 1\\n      17       13       19 1\\n      18       14       15 1\\n      19       14       20 1\\n      20       15       16 1\\n      21       15       17 1\\n      22       16       23 1\\n      23       17       18 1\\n      24       17       21 1\\n      25       18       22 1\\n      26       23       24 1\\n      27       23       29 1\\n      28       24       25 1\\n      29       24       30 1\\n      30       25       26 1\\n      31       25       31 1\\n      32       26       27 1\\n      33       26       28 1\\n      34       27       34 1\\n      35       28       29 1\\n      36       28       32 1\\n      37       29       33 1\\n      38       34       35 1\\n      39       34       40 1\\n      40       35       36 1\\n      41       35       41 1\\n      42       36       37 1\\n      43       36       42 1\\n      44       37       38 1\\n      45       37       39 1\\n      46       38       45 1\\n      47       39       40 1\\n      48       39       43 1\\n      49       40       44 1\\n      50       45       46 1\\n      51       45       51 1\\n      52       46       47 1\\n      53       46       52 1\\n      54       47       48 1\\n      55       47       53 1\\n      56       48       49 1\\n      57       48       50 1\\n      58       49       56 1\\n      59       50       51 1\\n      60       50       54 1\\n      61       51       55 1\\n      62       56       57 1\\n      63       56       62 1\\n      64       57       58 1\\n      65       57       63 1\\n      66       58       59 1\\n      67       58       64 1\\n      68       59       60 1\\n      69       59       61 1\\n      70       60       68 1\\n      71       61       62 1\\n      72       61       65 1\\n      73       62       66 1\\n@<TRIPOS>SUBSTRUCTURE\\n       1 RES             1 RESIDUE    0 **** ROOT      0\\n\",\"mol2\");\n",
              "\tviewer_16952471750795574.setStyle({\"stick\": {\"radius\": 0.2, \"color\": \"grey\"}, \"sphere\": {\"scale\": 0.3, \"colorscheme\": {}}});\n",
              "\tviewer_16952471750795574.zoomTo();\n",
              "viewer_16952471750795574.render();\n",
              "});\n",
              "</script>"
            ]
          },
          "metadata": {}
        },
        {
          "output_type": "execute_result",
          "data": {
            "text/plain": [
              "<py3Dmol.view at 0x78e6a6fcdea0>"
            ]
          },
          "metadata": {},
          "execution_count": 3
        }
      ]
    },
    {
      "cell_type": "code",
      "source": [
        "pps_mol.coarse_grain(beads={\"A\": \"c1ccc(S)cc1\"})\n",
        "pps_mol.molecules[0].visualize()"
      ],
      "metadata": {
        "id": "oVfltVp4DQpS",
        "colab": {
          "base_uri": "https://localhost:8080/",
          "height": 572
        },
        "outputId": "ebf53eb9-a3f6-4e3c-934a-af832be30a1f"
      },
      "execution_count": null,
      "outputs": [
        {
          "output_type": "stream",
          "name": "stderr",
          "text": [
            "/usr/local/lib/python3.10/dist-packages/ipykernel/ipkernel.py:283: DeprecationWarning: `should_run_async` will not call `transform_cell` automatically in the future. Please pass the result to `transformed_cell` argument and any exception that happen during thetransform in `preprocessing_exc_tuple` in IPython 7.17 and above.\n",
            "  and should_run_async(code)\n"
          ]
        },
        {
          "output_type": "display_data",
          "data": {
            "application/3dmoljs_load.v0": "<div id=\"3dmolviewer_16952471816837714\"  style=\"position: relative; width: 640px; height: 480px\">\n        <p id=\"3dmolwarning_16952471816837714\" style=\"background-color:#ffcccc;color:black\">You appear to be running in JupyterLab (or JavaScript failed to load for some other reason).  You need to install the 3dmol extension: <br>\n        <tt>jupyter labextension install jupyterlab_3dmol</tt></p>\n        </div>\n<script>\n\nvar loadScriptAsync = function(uri){\n  return new Promise((resolve, reject) => {\n    //this is to ignore the existence of requirejs amd\n    var savedexports, savedmodule;\n    if (typeof exports !== 'undefined') savedexports = exports;\n    else exports = {}\n    if (typeof module !== 'undefined') savedmodule = module;\n    else module = {}\n\n    var tag = document.createElement('script');\n    tag.src = uri;\n    tag.async = true;\n    tag.onload = () => {\n        exports = savedexports;\n        module = savedmodule;\n        resolve();\n    };\n  var firstScriptTag = document.getElementsByTagName('script')[0];\n  firstScriptTag.parentNode.insertBefore(tag, firstScriptTag);\n});\n};\n\nif(typeof $3Dmolpromise === 'undefined') {\n$3Dmolpromise = null;\n  $3Dmolpromise = loadScriptAsync('https://cdnjs.cloudflare.com/ajax/libs/3Dmol/2.0.1/3Dmol-min.js');\n}\n\nvar viewer_16952471816837714 = null;\nvar warn = document.getElementById(\"3dmolwarning_16952471816837714\");\nif(warn) {\n    warn.parentNode.removeChild(warn);\n}\n$3Dmolpromise.then(function() {\nviewer_16952471816837714 = $3Dmol.createViewer(document.getElementById(\"3dmolviewer_16952471816837714\"),{backgroundColor:\"white\"});\nviewer_16952471816837714.zoomTo();\n\tviewer_16952471816837714.addModel(\"@<TRIPOS>MOLECULE\\nRES\\n6 5 1 0 1\\nSMALL\\nNO_CHARGES\\n@<TRIPOS>CRYSIN\\n    6.0000     5.8905    36.7297    90.0000    90.0000    90.0000 1 1\\n@<TRIPOS>ATOM\\n       1 A           -0.0000     0.1141    -0.1484 A             1 RES     \\n       2 A            0.0000     0.2921    -6.4943 A             1 RES     \\n       3 A            0.0000     0.4702   -12.8403 A             1 RES     \\n       4 A            0.0000     0.6483   -19.1862 A             1 RES     \\n       5 A            0.0000     0.8264   -25.5321 A             1 RES     \\n       6 A            0.0000     1.0045   -31.8781 A             1 RES     \\n@<TRIPOS>BOND\\n       1        1        2 1\\n       2        2        3 1\\n       3        3        4 1\\n       4        4        5 1\\n       5        5        6 1\\n@<TRIPOS>SUBSTRUCTURE\\n       1 RES             1 RESIDUE    0 **** ROOT      0\\n\",\"mol2\");\n\tviewer_16952471816837714.setStyle({\"atom\": [\"A\", \"A\", \"A\", \"A\", \"A\", \"A\"]},{\"stick\": {\"radius\": 0.13999999999999999, \"opacity\": 1, \"color\": \"grey\"}, \"sphere\": {\"scale\": 0.7, \"opacity\": 1, \"colorscheme\": {}}});\n\tviewer_16952471816837714.zoomTo();\nviewer_16952471816837714.render();\n});\n</script>",
            "text/html": [
              "<div id=\"3dmolviewer_16952471816837714\"  style=\"position: relative; width: 640px; height: 480px\">\n",
              "        <p id=\"3dmolwarning_16952471816837714\" style=\"background-color:#ffcccc;color:black\">You appear to be running in JupyterLab (or JavaScript failed to load for some other reason).  You need to install the 3dmol extension: <br>\n",
              "        <tt>jupyter labextension install jupyterlab_3dmol</tt></p>\n",
              "        </div>\n",
              "<script>\n",
              "\n",
              "var loadScriptAsync = function(uri){\n",
              "  return new Promise((resolve, reject) => {\n",
              "    //this is to ignore the existence of requirejs amd\n",
              "    var savedexports, savedmodule;\n",
              "    if (typeof exports !== 'undefined') savedexports = exports;\n",
              "    else exports = {}\n",
              "    if (typeof module !== 'undefined') savedmodule = module;\n",
              "    else module = {}\n",
              "\n",
              "    var tag = document.createElement('script');\n",
              "    tag.src = uri;\n",
              "    tag.async = true;\n",
              "    tag.onload = () => {\n",
              "        exports = savedexports;\n",
              "        module = savedmodule;\n",
              "        resolve();\n",
              "    };\n",
              "  var firstScriptTag = document.getElementsByTagName('script')[0];\n",
              "  firstScriptTag.parentNode.insertBefore(tag, firstScriptTag);\n",
              "});\n",
              "};\n",
              "\n",
              "if(typeof $3Dmolpromise === 'undefined') {\n",
              "$3Dmolpromise = null;\n",
              "  $3Dmolpromise = loadScriptAsync('https://cdnjs.cloudflare.com/ajax/libs/3Dmol/2.0.1/3Dmol-min.js');\n",
              "}\n",
              "\n",
              "var viewer_16952471816837714 = null;\n",
              "var warn = document.getElementById(\"3dmolwarning_16952471816837714\");\n",
              "if(warn) {\n",
              "    warn.parentNode.removeChild(warn);\n",
              "}\n",
              "$3Dmolpromise.then(function() {\n",
              "viewer_16952471816837714 = $3Dmol.createViewer(document.getElementById(\"3dmolviewer_16952471816837714\"),{backgroundColor:\"white\"});\n",
              "viewer_16952471816837714.zoomTo();\n",
              "\tviewer_16952471816837714.addModel(\"@<TRIPOS>MOLECULE\\nRES\\n6 5 1 0 1\\nSMALL\\nNO_CHARGES\\n@<TRIPOS>CRYSIN\\n    6.0000     5.8905    36.7297    90.0000    90.0000    90.0000 1 1\\n@<TRIPOS>ATOM\\n       1 A           -0.0000     0.1141    -0.1484 A             1 RES     \\n       2 A            0.0000     0.2921    -6.4943 A             1 RES     \\n       3 A            0.0000     0.4702   -12.8403 A             1 RES     \\n       4 A            0.0000     0.6483   -19.1862 A             1 RES     \\n       5 A            0.0000     0.8264   -25.5321 A             1 RES     \\n       6 A            0.0000     1.0045   -31.8781 A             1 RES     \\n@<TRIPOS>BOND\\n       1        1        2 1\\n       2        2        3 1\\n       3        3        4 1\\n       4        4        5 1\\n       5        5        6 1\\n@<TRIPOS>SUBSTRUCTURE\\n       1 RES             1 RESIDUE    0 **** ROOT      0\\n\",\"mol2\");\n",
              "\tviewer_16952471816837714.setStyle({\"atom\": [\"A\", \"A\", \"A\", \"A\", \"A\", \"A\"]},{\"stick\": {\"radius\": 0.13999999999999999, \"opacity\": 1, \"color\": \"grey\"}, \"sphere\": {\"scale\": 0.7, \"opacity\": 1, \"colorscheme\": {}}});\n",
              "\tviewer_16952471816837714.zoomTo();\n",
              "viewer_16952471816837714.render();\n",
              "});\n",
              "</script>"
            ]
          },
          "metadata": {}
        },
        {
          "output_type": "execute_result",
          "data": {
            "text/plain": [
              "<py3Dmol.view at 0x78e6a70ef2b0>"
            ]
          },
          "metadata": {},
          "execution_count": 4
        }
      ]
    },
    {
      "cell_type": "code",
      "source": [
        "cg_system = Pack(molecules=pps_mol, density=0.5, r_cut=2.5, auto_scale=False)\n",
        "cg_system.system.visualize()"
      ],
      "metadata": {
        "id": "nkqZ3CHOCUec"
      },
      "execution_count": null,
      "outputs": []
    },
    {
      "cell_type": "code",
      "source": [
        "\n",
        "\n",
        "ff = BeadSpring(\n",
        "    r_cut=2.5,\n",
        "    beads={\"A\": dict(epsilon=1.0, sigma=1.0),},\n",
        "    bonds={\"A-A\": dict(r0=1.1, k=300),},\n",
        "    angles={\"A-A-A\": dict(t0=2.0, k=200)},\n",
        "    dihedrals={\"A-A-A-A\": dict(phi0=0.0, k=100, d=-1, n=1)},\n",
        ")\n",
        "cg_sim = Simulation(initial_state=cg_system.hoomd_snapshot, forcefield=ff.hoomd_forcefield, gsd_write_freq=100, log_write_freq=100, gsd_file_name = \"cg.gsd\")\n",
        "cg_sim.run_update_volume(n_steps=1000, period=1, kT=1, tau_kt=1,  final_box_lengths=cg_system.target_box)\n",
        "print(cg_system.hoomd_snapshot.particles.types)\n",
        "cg_sim.run_NVT(n_steps=1e3, kT=1.2, tau_kt=1)\n"
      ],
      "metadata": {
        "id": "Alr2-fV6DpQ8"
      },
      "execution_count": null,
      "outputs": []
    },
    {
      "cell_type": "code",
      "source": [
        "cg_viz = FresnelGSD(\"cg.gsd\")\n",
        "cg_viz.frame = 20\n",
        "cg_viz.view()"
      ],
      "metadata": {
        "id": "8hWVq7oeAo3g"
      },
      "execution_count": null,
      "outputs": []
    },
    {
      "cell_type": "code",
      "source": [],
      "metadata": {
        "id": "gl27Z72xEU6C"
      },
      "execution_count": null,
      "outputs": []
    }
  ],
  "metadata": {
    "kernelspec": {
      "display_name": "Python 3 (ipykernel)",
      "language": "python",
      "name": "python3"
    },
    "language_info": {
      "codemirror_mode": {
        "name": "ipython",
        "version": 3
      },
      "file_extension": ".py",
      "mimetype": "text/x-python",
      "name": "python",
      "nbconvert_exporter": "python",
      "pygments_lexer": "ipython3",
      "version": "3.9.16"
    },
    "colab": {
      "provenance": [],
      "include_colab_link": true
    }
  },
  "nbformat": 4,
  "nbformat_minor": 0
}