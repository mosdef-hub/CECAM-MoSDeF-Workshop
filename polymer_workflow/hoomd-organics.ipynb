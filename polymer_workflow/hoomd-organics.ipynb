{
  "cells": [
    {
      "cell_type": "markdown",
      "metadata": {
        "id": "view-in-github",
        "colab_type": "text"
      },
      "source": [
        "<a href=\"https://colab.research.google.com/github/mosdef-hub/CECAM-MoSDeF-Workshop/blob/main/polymer_workflow/hoomd-organics.ipynb\" target=\"_parent\"><img src=\"https://colab.research.google.com/assets/colab-badge.svg\" alt=\"Open In Colab\"/></a>"
      ]
    },
    {
      "cell_type": "markdown",
      "source": [
        "# **Organic Polymers with HOOMD**\n",
        "---\n",
        "## Summary\n",
        "Users are encouraged to build functionality around MoSDeF tools by wrapping and extending the core classes to suit their needs. `hoomd-organics` is a lightweight library that provides another example of extending MoSDeF tools, reviews concepts from the Slitpore and Biomolecule notebooks, and demonstrates a rudimentary coarse-graining workflow.\n",
        "\n",
        "## Learning Objectives\n",
        "This notebook provides interactive examples that will assist learners in using MoSDeF tools to:\n",
        "1. Initialize complex macromolecules for molecular simulation.\n",
        "2. Demonstrate how to run HOOMD-Blue simulations with these molecules.\n",
        "3. Use and inspect forcefields.\n",
        "4. Generate coarse-grained representations and run simplified models.\n",
        "\n",
        "## Tutorial Contents\n",
        "0. Set up the notebook environment on Google Colab\n",
        "1. A concise polymer example with `hoomd-organics`\n",
        "2. Defining molecules\n",
        "3. Defining and inspecting forces\n",
        "4. Specifying your own systems\n",
        "5. Coarse-graining\n",
        "\n",
        "# __0. Orientation, Installation, & Setup__\n",
        "---\n",
        "\n",
        "## Software stack setup\n",
        "After running the cell below the kernel will restart -- This is necessary for conda dependencies, but you'll need to wait for that kernel restart before running the second cell.\n",
        "\n",
        "## Interface notes\n",
        "There are two types of output in these Colab notebooks that can be a little tricky:\n",
        "\n",
        "1. If the output is very long, for example from the mamba command in the second cell, scrolling past the output can feel onerous. In this case, scrolling up and down in the narrow grey area between the sidebar menu and the cells can help you navigate.\n",
        "\n",
        "2. If the output is a visualization of a molecule or simulation configuration, scrolling up or down will zoom in or out if the cursor is over the visualization. In these cases, take some care to scroll outside of the visualization.\n",
        "\n",
        "OK, so if you haven't already, run the next cell by using Shift+Return when the cell is active (click on it) or by pressing the Play button that appears when you mouseover it"
      ],
      "metadata": {
        "id": "w6ZHWJc3wy56"
      }
    },
    {
      "cell_type": "code",
      "source": [
        "!pip install -q condacolab\n",
        "!git clone --single-branch --branch cecam https://github.com/cmelab/hoomd-organics\n",
        "import condacolab\n",
        "condacolab.install()"
      ],
      "metadata": {
        "id": "iAGFkmM4m520"
      },
      "execution_count": null,
      "outputs": []
    },
    {
      "cell_type": "markdown",
      "source": [
        "It will take about 2-3 minutes to install the python dependencies after the kernel restarts. Once the kernel does restart, you can run the following cell right away. This cell and the previous one only need to be run once each, and running either one a second time can cause some confusions."
      ],
      "metadata": {
        "id": "aK_FlYzMxb4e"
      }
    },
    {
      "cell_type": "code",
      "source": [
        "#!pip install --upgrade ipykernel #breaks things?\n",
        "import os\n",
        "os.chdir(\"hoomd-organics\")\n",
        "!mamba env update -n base -f environment-cpu.yml\n",
        "!python -m pip install -e .\n",
        "import warnings\n",
        "warnings.filterwarnings('ignore')"
      ],
      "metadata": {
        "id": "1QYatbale15M"
      },
      "execution_count": null,
      "outputs": []
    },
    {
      "cell_type": "markdown",
      "metadata": {
        "id": "IjSlna49m0WD"
      },
      "source": [
        "\n",
        "#  __1. HOOMD simulations from start to finish with MoSDeF Tools__\n",
        "---\n",
        "## Overview:\n",
        "We'll see how to run simulations of poly(phenylene sulfide) (PPS) molecules using the `hoomd-organics`, a package of MoSDeF tools for initializing and performing common MD simulations of organic molecules. This uses the [`HOOMD-blue`](https://hoomd-blue.readthedocs.io/en/v4.1.0/) simulation engine.\n",
        "\n"
      ]
    },
    {
      "cell_type": "markdown",
      "source": [
        "## 1.1 Initialization, parameterization, and simulation\n",
        "\n",
        "First, let's see everything in one block:\n",
        "\n",
        "With just a couple of imports and a few lines of code, we are able to initialize 30 8-mers of PPS, randomly pack them into a volume, perform a simulation in the NVT ensemble, and peek at the final configuration.\n",
        "\n",
        "Depending on your colab node utilization, this may take anywhere from 1-7 minutes."
      ],
      "metadata": {
        "id": "AGHaMCH1hv0y"
      }
    },
    {
      "cell_type": "code",
      "execution_count": null,
      "metadata": {
        "id": "7V4Oat3Cm0WE"
      },
      "outputs": [],
      "source": [
        "from hoomd_organics.library import PPS, OPLS_AA_PPS\n",
        "from hoomd_organics import Pack, Simulation\n",
        "from cmeutils.visualize import FresnelGSD\n",
        "\n",
        "molecules = PPS(num_mols=30, lengths=8)\n",
        "system = Pack(molecules=molecules, force_field=OPLS_AA_PPS(), density=0.8, r_cut=2.5, auto_scale=True, scale_charges=True, packing_expand_factor=5)\n",
        "pps_ff = system.hoomd_forcefield\n",
        "sim = Simulation(initial_state=system.hoomd_snapshot, forcefield=pps_ff, gsd_write_freq=100, log_write_freq=100, gsd_file_name=\"pps.gsd\")\n",
        "sim.run_update_volume(n_steps=1000, period=1, kT=1, tau_kt=1, final_box_lengths=system.target_box)\n",
        "sim.run_NVT(n_steps=1000, kT=1.0, tau_kt=0.01)\n",
        "viz = FresnelGSD(\"pps.gsd\")\n",
        "viz.frame = -1 # python convention for last element\n",
        "viz.view()\n"
      ]
    },
    {
      "cell_type": "markdown",
      "source": [
        "In the above example, a lot of functionality is provided by two key imports: `PPS`, `and OPLS_AA_PPS`. `PPS()` uses `mBuild` tools to initialize PPS chemistries specificially, and `OPLS_AA_PPS` is an instance of a `foyer.Forcefield` that provides the subset of parameters from OPLS_AA needed by PPS specifically.\n",
        "\n",
        "In the next sections we'll explore each of these components in some more depth."
      ],
      "metadata": {
        "id": "sXL38pTAjMJn"
      }
    },
    {
      "cell_type": "code",
      "source": [
        "#Can play around visualizing other frames here\n",
        "viz.frame = 2 #Here the frames run from 0-20: 1 initial configuration, 10 frames from the volume shrink, and 10 frames from the NVT run.\n",
        "viz.view()"
      ],
      "metadata": {
        "id": "jxDSuR-OW8-j"
      },
      "execution_count": null,
      "outputs": []
    },
    {
      "cell_type": "markdown",
      "metadata": {
        "id": "I7mTNoq0m0WG"
      },
      "source": [
        "# __2. Defining Molecules__\n",
        "---\n",
        "What other ways can we initialize molecules in simulation volumes?\n",
        "\n",
        "Above, we used the `PPS` class, a subclass of the `hoomd-organics` `Molecule` class. This class includes all the necessary information about the PPS molecule, including the monomer structure and how the monomers bond to create a chain. All we needed was to specify is the polymer length and how many polymer chains we want to create in the `PPS()` constructor.\n",
        "\n",
        "You can also define your own molecule(s):\n",
        "- Using the SMILES string of the molecule\n",
        "- Using the molecule file (accepted formats are: `.mol2` and `.sdf`)\n",
        "- Using a [`mbuild`](https://mbuild.mosdef.org/en/stable/) compound or a [`gmso`](https://gmso.mosdef.org/en/stable/) topology\n",
        "- By defining your own subclass of `Molecule`, such as [PPS](https://github.com/cmelab/hoomd-organics/blob/e709be850cc2e818f817243bc82e5414465d0e6b/hoomd_organics/library/polymers.py#L35).\n",
        "\n",
        "## __Exercise 2.1__\n",
        "\n",
        "Use the template code below to initialize some copies of a molecule using SMILES strings. Put your blue sticky note up on your laptop when you've been able to explore a bit. Put up your pink sticky note or file an issue at [github](https://github.com/cmelab/hoomd-organics/issues) if you run into any problems!\n",
        "\n",
        "### <font color=\"red\"><b>Exercise 2.1 Hint </b></font>\n",
        "<details>\n",
        "<summary>Click here for help.</summary>\n",
        "Replace \"YOUR_SMILES_HERE\" with a valid smiles string such as \"c1cc(C(O)=O)ccc1\" to initialize `num_mols` instances of that molecule.\n",
        "</details>\n"
      ]
    },
    {
      "cell_type": "code",
      "execution_count": null,
      "metadata": {
        "id": "Nuz3p7oEm0WG"
      },
      "outputs": [],
      "source": [
        "# example of loading molecule(s) using the SMILES string and visualizing it\n",
        "from hoomd_organics import Molecule\n",
        "benzoic_acid_mol = Molecule(num_mols=20, smiles=\"YOUR_SMILES_HERE\") #\n",
        "benzoic_acid_mol.molecules[0].visualize()"
      ]
    },
    {
      "cell_type": "markdown",
      "source": [
        "## 2.2 Initializing molecules from `mol2` or `sdf` files\n"
      ],
      "metadata": {
        "id": "_mExjG_saK_D"
      }
    },
    {
      "cell_type": "code",
      "source": [
        "# example of loading a molecule using a mol2 file\n",
        "# If you have another mol2 or sdf file accessible over the web, you can wget it as below:\n",
        "#!wget https://raw.githubusercontent.com/cmelab/hoomd-organics/main/hoomd_organics/assets/molecule_files/IPH.mol2\n",
        "phenol_mol = Molecule(num_mols=20, file=\"hoomd_organics/assets/molecule_files/IPH.mol2\")\n",
        "phenol_mol.molecules[0].visualize()"
      ],
      "metadata": {
        "id": "VpbwAr3_ajsx"
      },
      "execution_count": null,
      "outputs": []
    },
    {
      "cell_type": "markdown",
      "metadata": {
        "id": "GZbX4E6am0WO"
      },
      "source": [
        "## 2.3:  Initializing from a [`mbuild`](https://mbuild.mosdef.org/en/stable/) compound or a [`gmso`](https://gmso.mosdef.org/en/stable/) topology"
      ]
    },
    {
      "cell_type": "code",
      "source": [
        "# example of loading a molecule from mbuild compound or gmso topology\n",
        "import mbuild as mb\n",
        "mb_compound = mb.load(\"c1ccccc1\", smiles=True) #let's doublecheck benzene\n",
        "gmso_top = mb_compound.to_gmso()\n",
        "benzene_mol = Molecule(num_mols=20, compound=mb_compound)\n",
        "benzene_mol = Molecule(num_mols=20, compound=gmso_top)"
      ],
      "metadata": {
        "id": "ZCxinZPn6uCp"
      },
      "execution_count": null,
      "outputs": []
    },
    {
      "cell_type": "markdown",
      "metadata": {
        "id": "8dovv5Gsm0WH"
      },
      "source": [
        "#__3. Defining and inspecting systems__\n",
        "\n",
        "How did we use the molecules created above to initialize a simulation volume that was then used to run an MD simulation?\n",
        "\n",
        "The `Pack` class, which is a subclass of the `System` class, is used to pack a box of PPS molecules given a density. The `System` class provides code to create the simulation volume and fill it with molecules, applies the force-field (if provided) to the system and creates the initial state of the system in the form a `gsd` snapshot.\n",
        "\n",
        "If the force-field is provided, `Pack` also gets the list of forces that defines the bonded and non-bonded interactions between the particles.\n",
        "\n",
        "In this example, we passed the molecules object created in section 1.1 to pack a box with density=0.8.\n",
        "Let's visualize this initial configuration:"
      ]
    },
    {
      "cell_type": "code",
      "source": [
        "system.system.visualize()"
      ],
      "metadata": {
        "id": "KBWX4EWVmcwE"
      },
      "execution_count": null,
      "outputs": []
    },
    {
      "cell_type": "markdown",
      "source": [
        "## 3.1 Inspecting forces\n",
        "\n",
        "Let's see what values of sigma and epsilon were used to parameterize the Lennard-Jones potential in our simulation.\n",
        "\n",
        "To get this information, we access forcefield information, which we stored in `pps_ff` earlier, calling `system.hoomd_forcefield`.\n",
        "\n",
        "By accessing `pps_ff` we can see which forcefield components are stored in which elements of the list:"
      ],
      "metadata": {
        "id": "RHQnYw0FCkY4"
      }
    },
    {
      "cell_type": "code",
      "source": [
        "pps_ff"
      ],
      "metadata": {
        "id": "YngdrfCCCjvG"
      },
      "execution_count": null,
      "outputs": []
    },
    {
      "cell_type": "markdown",
      "source": [
        "## __Activity 3.1__\n",
        "and then we can view the parameters (`params`) of the LJ pair forces as a dictionary:\n",
        "\n",
        "### <font color=\"red\"><b>Exercise 3.1 Hint </b></font>\n",
        "<details>\n",
        "<summary>Click here for help.</summary>\n",
        "\n",
        "We'll replace \"INDEX\" with the index of the forcefield element we wish to inspect. From the previous cell we can see that LJ pair forces are stored in `pps_ff[3]`, so we'll pass the parameters `pps_ff[3].params` to the dict() funtion to summarize them.\n",
        "</details>"
      ],
      "metadata": {
        "id": "pRoWvuVK5zuQ"
      }
    },
    {
      "cell_type": "code",
      "source": [
        "dict(pps_ff[INDEX].params)"
      ],
      "metadata": {
        "id": "pMlD4cYXxr0u"
      },
      "execution_count": null,
      "outputs": []
    },
    {
      "cell_type": "markdown",
      "metadata": {
        "id": "Dm-Oinrpm0WP"
      },
      "source": [
        "# __4. Specifying your own systems__\n",
        "## 4.1  Defining forcefields\n",
        "`hoomd-organics` package has a list of pre-defined force-fields that can be used to initialize the system. If you have the `xml` file of the forcefield, you can use the `FF_from_file` class from `hoomd_organics.library` to create a force-field object.\n",
        "You can also define your own forcefield by creating a subclass of the `foyer.Forcefield` class.\n"
      ]
    },
    {
      "cell_type": "code",
      "execution_count": null,
      "metadata": {
        "id": "X0LiJGRYm0WP"
      },
      "outputs": [],
      "source": [
        "from hoomd_organics.library import FF_from_file\n",
        "benzene_ff = FF_from_file(xml_file=\"hoomd_organics/assets/forcefields/benzene_opls.xml\")"
      ]
    },
    {
      "cell_type": "markdown",
      "metadata": {
        "id": "TL0bqmJpm0WP"
      },
      "source": [
        "Checkout `hoomd_organics/library/forcefields.py` for more some examples of defining a forcefield using a subclass of `foyer.Forcefield` for specific molecules."
      ]
    },
    {
      "cell_type": "markdown",
      "metadata": {
        "id": "jOrDAtbam0WQ"
      },
      "source": [
        "##4.2. Creating initial configurations\n"
      ]
    },
    {
      "cell_type": "markdown",
      "metadata": {
        "id": "ackzW76vm0WQ"
      },
      "source": [
        "`hoomd_organics` package has two methods of filling the box built in the `System` class: `Pack` and `Lattice`. We used `Pack` above, which leverages an `mBuild` interface to packmol. `Lattice` is demonstrated below:"
      ]
    },
    {
      "cell_type": "code",
      "execution_count": null,
      "metadata": {
        "id": "oesp52zUm0WQ"
      },
      "outputs": [],
      "source": [
        "# example of defining a system using the Lattice method\n",
        "\n",
        "from hoomd_organics import Lattice\n",
        "from hoomd_organics.library import OPLS_AA\n",
        "\n",
        "benzene_mol = Molecule(num_mols=32, smiles=\"c1ccccc1\")\n",
        "\n",
        "lattice = Lattice(\n",
        "            molecules=[benzene_mol],\n",
        "            force_field=OPLS_AA(),\n",
        "            density=1.0,\n",
        "            r_cut=2.5,\n",
        "            x=1,\n",
        "            y=1,\n",
        "            n=4,\n",
        "            auto_scale=True\n",
        "        )\n",
        "lattice.system.visualize()"
      ]
    },
    {
      "cell_type": "markdown",
      "metadata": {
        "id": "dmpAu5ZWm0WR"
      },
      "source": [
        "##4.3. Systems with multiple molecule types\n",
        "\n",
        "You can also define your own method of filling the box by creating a subclass of the `System` class. For example, one method of filling a box with two types of molecule is creating alternate layers of each molecule type."
      ]
    },
    {
      "cell_type": "markdown",
      "metadata": {
        "id": "ImzX3hl7m0WR"
      },
      "source": [
        "The system class can take a list of different molecule types along with different forcefields. If all molecule types use the same forcefield, then you only need to pass the forcefield once."
      ]
    },
    {
      "cell_type": "code",
      "execution_count": null,
      "metadata": {
        "id": "I2cgjZGkm0WS"
      },
      "outputs": [],
      "source": [
        "#!wget https://github.com/cmelab/hoomd-organics/raw/main/hoomd_organics/assets/forcefields/dimethylether_opls.xml\n",
        "from hoomd_organics.library import OPLS_AA_DIMETHYLETHER\n",
        "dimethylether_mol = Molecule(num_mols=20, smiles=\"COC\")\n",
        "pps_mol = PPS(num_mols=10, lengths=4)\n",
        "multi_type_system = Pack(\n",
        "    molecules=[dimethylether_mol, pps_mol], #specify numbers of molecules in constructors above\n",
        "    density=0.8,\n",
        "    r_cut=2.5,\n",
        "    force_field=[OPLS_AA_DIMETHYLETHER(), OPLS_AA_PPS()],\n",
        "    auto_scale=True,\n",
        ")\n",
        "multi_type_system.system.visualize()"
      ]
    },
    {
      "cell_type": "markdown",
      "source": [
        "# __5. Coarse-graining__\n",
        "---\n",
        "In the following example, we'll demonstrate how to generate a coarse-grained representation of a molecule, apply it to a simulation volume, define a forcefield for that coarse representation, and run a HOOMD simulation with it."
      ],
      "metadata": {
        "id": "3MIzv_se8ma3"
      }
    },
    {
      "cell_type": "code",
      "source": [
        "from hoomd_organics.base import Pack, Simulation\n",
        "from hoomd_organics.library import PPS, BeadSpring\n",
        "pps_mol = PPS(num_mols=300, lengths=6)\n",
        "pps_mol.molecules[0].visualize()"
      ],
      "metadata": {
        "id": "X9IoxNmcDHY3"
      },
      "execution_count": null,
      "outputs": []
    },
    {
      "cell_type": "code",
      "source": [
        "pps_mol.coarse_grain(beads={\"A\": \"c1ccc(S)cc1\"})\n",
        "pps_mol.molecules[0].visualize()"
      ],
      "metadata": {
        "id": "oVfltVp4DQpS"
      },
      "execution_count": null,
      "outputs": []
    },
    {
      "cell_type": "code",
      "source": [
        "cg_system = Pack(molecules=pps_mol, density=0.5, r_cut=2.5, auto_scale=False)\n",
        "cg_system.system.visualize()"
      ],
      "metadata": {
        "id": "nkqZ3CHOCUec"
      },
      "execution_count": null,
      "outputs": []
    },
    {
      "cell_type": "code",
      "source": [
        "\n",
        "\n",
        "ff = BeadSpring(\n",
        "    r_cut=2.5,\n",
        "    beads={\"A\": dict(epsilon=1.0, sigma=1.0),},\n",
        "    bonds={\"A-A\": dict(r0=1.1, k=300),},\n",
        "    angles={\"A-A-A\": dict(t0=2.0, k=200)},\n",
        "    dihedrals={\"A-A-A-A\": dict(phi0=0.0, k=100, d=-1, n=1)},\n",
        ")\n",
        "cg_sim = Simulation(initial_state=cg_system.hoomd_snapshot, forcefield=ff.hoomd_forcefield, gsd_write_freq=100, log_write_freq=100, gsd_file_name = \"cg.gsd\")\n",
        "cg_sim.run_update_volume(n_steps=1000, period=1, kT=1, tau_kt=1,  final_box_lengths=cg_system.target_box)\n",
        "print(cg_system.hoomd_snapshot.particles.types)\n",
        "cg_sim.run_NVT(n_steps=1e3, kT=1.2, tau_kt=1)\n"
      ],
      "metadata": {
        "id": "Alr2-fV6DpQ8"
      },
      "execution_count": null,
      "outputs": []
    },
    {
      "cell_type": "code",
      "source": [
        "cg_viz = FresnelGSD(\"cg.gsd\")\n",
        "cg_viz.frame = 1\n",
        "cg_viz.view()"
      ],
      "metadata": {
        "id": "8hWVq7oeAo3g"
      },
      "execution_count": null,
      "outputs": []
    },
    {
      "cell_type": "code",
      "source": [],
      "metadata": {
        "id": "gl27Z72xEU6C"
      },
      "execution_count": null,
      "outputs": []
    }
  ],
  "metadata": {
    "kernelspec": {
      "display_name": "Python 3 (ipykernel)",
      "language": "python",
      "name": "python3"
    },
    "language_info": {
      "codemirror_mode": {
        "name": "ipython",
        "version": 3
      },
      "file_extension": ".py",
      "mimetype": "text/x-python",
      "name": "python",
      "nbconvert_exporter": "python",
      "pygments_lexer": "ipython3",
      "version": "3.9.16"
    },
    "colab": {
      "provenance": [],
      "include_colab_link": true
    }
  },
  "nbformat": 4,
  "nbformat_minor": 0
}