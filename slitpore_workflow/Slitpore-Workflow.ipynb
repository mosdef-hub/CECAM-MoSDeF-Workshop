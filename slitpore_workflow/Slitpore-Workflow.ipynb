{
  "cells": [
    {
      "cell_type": "markdown",
      "id": "1bfc81ba",
      "metadata": {
        "id": "1bfc81ba"
      },
      "source": [
        "<a href=\"https://colab.research.google.com/github/mosdef-hub/CECAM-MoSDeF-Workshop/blob/main/slitpore_workflow/Slitpore-Workflow.ipynb\" target=\"_parent\"><img src=\"https://colab.research.google.com/assets/colab-badge.svg\" alt=\"Open In Colab\"/></a>"
      ]
    },
    {
      "cell_type": "markdown",
      "id": "de6a6209",
      "metadata": {
        "id": "de6a6209"
      },
      "source": [
        "# **Carbon Slitpore Workflow**\n",
        "---\n",
        "<figure>\n",
        "  <center>\n",
        "  <img src=\"https://github.com/mosdef-hub/CECAM-MoSDeF-Workshop/blob/main/images/slitpore_sims.png?raw=1\" alt=\"Water_in_slitpore\" style=\"width:80%\">\n",
        "  <figcaption>Water filling a slitpore from <a href=\"https://cassandra-mc.readthedocs.io/en/latest/theory/theory.html#grand-canonical-monte-carlo\">GCMC Cassandra</a> simulations.</figcaption>\n",
        "  </center>\n",
        "</figure>\n",
        "\n",
        "\n",
        "## Overview\n",
        "\"Porous  carbon  materials  are  used  for  separation, purification, and catalysis purposes. While the adsorption and phase behavior of nonpolar fluids in carbon pores has  been  studied  extensively,our  understanding  regarding adsorption of water in carbonaceous materials is still rudimentary. Nevertheless, the structure and the thermodynamic  properties  of  water  confined  in  hydrophobic  regions  are  of  importance  in  many  scientific disciplines such as chemistry, geology, nanotechnology, and biology. Water adsorption in hydrophobic materials is typically characterized by negligible adsorption at low relative pressures, sudden and complete pore filling by a capillary-condensation mechanism, and large adsorption/ desorption hysteresis loops.\"\n",
        "\n",
        "    - Striolo, A.; Chialvo, A. A.; Cummings, P. T.; Gubbins, K. E. Water Adsorption in Carbon-Slit Nanopores. Langmuir, 2003, 19 (20), 8583–8591.\n",
        "\n",
        "The above study was recreated in 2020 in a work by Cummings et al. using open-source moleuclar modeling software with focus on the Molecular Simulation Design Framework (MoSDeF).\n",
        "\n",
        "    - Peter Cummings, Clare McCabe, Christopher Iacovella, et al. Open-Source Molecular Modeling Software in Chemical Engineering Focusing on the Molecular Simulation Design Framework. Authorea. November 30, 2020.\n",
        "\n",
        "\n",
        "## Learning Objectives\n",
        "This notebook provides interactivre examples that will assist learners in using MoSDeF tools to:\n",
        "1. Create a molecule in different method using `mBuild`\n",
        "2. Load in a force field fromr XML and inspect the ForceField object with `GMSO`\n",
        "3. Parameterize a system with a force field and inspect the parameterized object\n",
        "4. Save out the topology and use it to run a Cassandra MC simulation using `mosdef_cassandra`\n",
        "\n",
        "## Tutorial Contents\n",
        "0. Set up environment on Google Colab\n",
        "1. Construct System with mBuild\n",
        "    1. Exercise 1a - Create a molecule with mbuild\n",
        "    2. Exercise 1b - Pack a box of solvent\n",
        "2. Load a ForceField\n",
        "    1. Exercise 2 - Load and inspect a force field from XML\n",
        "3. Parameterization\n",
        "    1. Exercise 3 - Parameterize a compound/topology and summarize the parameterized object\n",
        "4. Save out to Cassandra files\n",
        "    1. Exercise 4 - Save a `.mcf` file from a typed Topology\n",
        "5. Set up Cassandra input file and run simulation (optional)\n",
        "## Software stack setup\n",
        "After running the cell below the kernel will restart -- This is necessary for conda dependencies, but you'll need to wait for that kernel restart before running the second cell.\n",
        "\n",
        "\n",
        "## Working with Google Colab\n",
        "There are two types of output in these Colab notebooks that can be a little tricky:\n",
        "\n",
        "1. If the output is very long, for example from the mamba command in the second cell, scrolling past the output can feel onerous. In this case, scrolling up and down in the narrow grey area between the sidebar menu and the cells can help you navigate.\n",
        "\n",
        "2. If the output is a visualization of a molecule or simulation configuration, scrolling up or down will zoom in or out if the cursor is over the visualization. In these cases, take some care to scroll outside of the visualization.\n",
        "\n",
        "3. To run a cell, either click the run button (right facing triangle) or hit `shift + enter`"
      ]
    },
    {
      "cell_type": "markdown",
      "id": "f98911a6-e61f-4bd9-a957-2e13bf16ee34",
      "metadata": {
        "id": "f98911a6-e61f-4bd9-a957-2e13bf16ee34",
        "tags": []
      },
      "source": [
        "## __0. Set up environment on Google Colab__\n",
        "----"
      ]
    },
    {
      "cell_type": "code",
      "execution_count": null,
      "id": "fd6483c2-1fc8-4ced-b6be-2e74f226e686",
      "metadata": {
        "id": "fd6483c2-1fc8-4ced-b6be-2e74f226e686"
      },
      "outputs": [],
      "source": [
        "# Note: Run this cell first and by itself.\n",
        "# The kernel will be restarted after this step\n",
        "# There might be an error pops up stating the session crashed\n",
        "# for an unknown reason, but that is expected.\n",
        "!pip install -q condacolab\n",
        "import condacolab\n",
        "condacolab.install()"
      ]
    },
    {
      "cell_type": "code",
      "execution_count": null,
      "id": "9ea069d6-6a30-4eec-a75b-c4595ed3462b",
      "metadata": {
        "id": "9ea069d6-6a30-4eec-a75b-c4595ed3462b"
      },
      "outputs": [],
      "source": [
        "import condacolab\n",
        "condacolab.check()\n",
        "\n",
        "!conda install mamba\n",
        "\n",
        "!mamba install anaconda-client -n base\n",
        "!git clone https://github.com/mosdef-hub/CECAM-MoSDeF-Workshop\n",
        "!mamba env update -n base -f CECAM-MoSDeF-Workshop/environment.yml\n",
        "!pip install --upgrade ipykernel\n",
        "\n",
        "%cd CECAM-MoSDeF-Workshop/slitpore_workflow"
      ]
    },
    {
      "cell_type": "markdown",
      "id": "f97cb717-232a-4652-8455-b547e15f0cc9",
      "metadata": {
        "id": "f97cb717-232a-4652-8455-b547e15f0cc9"
      },
      "source": [
        "## __0. Import packages__\n",
        "---"
      ]
    },
    {
      "cell_type": "code",
      "execution_count": null,
      "id": "2fc38099-08ff-4d2d-a91f-a2dbab638d0f",
      "metadata": {
        "id": "2fc38099-08ff-4d2d-a91f-a2dbab638d0f"
      },
      "outputs": [],
      "source": [
        "import warnings\n",
        "warnings.filterwarnings(\"ignore\")\n",
        "\n",
        "# Import Libraries\n",
        "import os\n",
        "import mbuild as mb\n",
        "import gmso\n",
        "from porebuilder import GraphenePore"
      ]
    },
    {
      "cell_type": "markdown",
      "id": "0b076f73-c5b6-46b8-9f19-8a3b11c92276",
      "metadata": {
        "id": "0b076f73-c5b6-46b8-9f19-8a3b11c92276",
        "tags": []
      },
      "source": [
        "## __1. Construct System with mBuild__\n",
        "----\n",
        "- The chemical system can be constructied with mBuild, the hierarchical molecular constructor of the MoSDeF software suite. The single, most important, data structure of mbuild is `Compound`:\n",
        "    - `Compound` can act as a particle at the lowest level, or a container containing other `Compound` (e.g., residue, molecule, etc.)\n",
        "    - This set up allow for the construction of smaller `Compound`s (e.g., molecules) individually, and combine them into one bigger system, i.e., by adding them both to a new `Compound` container.\n",
        "\n",
        "- The library offers several way to load or create molecules/systems, e.g., loading from common file format such as .xyz, .mol2, .pdb, from a SMILES string, using internal recipes, or user-construct recipes.\n",
        "- Below, we demonstrate two methods of creating a molecule, i.e., using a SMILES string to create a water molecule, and using an user-recipe to build a carbon slitpore."
      ]
    },
    {
      "cell_type": "code",
      "execution_count": null,
      "id": "f6677370-c231-4b4b-8787-d66ebefab4fc",
      "metadata": {
        "id": "f6677370-c231-4b4b-8787-d66ebefab4fc"
      },
      "outputs": [],
      "source": [
        "# load molecules from their daylight SMILES string\n",
        "# https://www.daylight.com/dayhtml/doc/theory/theory.smiles.html\n",
        "water = mb.load(\"O\", smiles=True)\n",
        "\n",
        "\"\"\"Visualization utilities\"\"\"\n",
        "print(water.print_hierarchy(show_tree=False)) # print_hierarchy() in normal colab"
      ]
    },
    {
      "cell_type": "code",
      "execution_count": null,
      "id": "7189f997-851d-41fe-a515-e733b1301bdc",
      "metadata": {
        "id": "7189f997-851d-41fe-a515-e733b1301bdc",
        "tags": []
      },
      "outputs": [],
      "source": [
        "water.visualize() # visualize molecule atoms and bonds"
      ]
    },
    {
      "cell_type": "markdown",
      "id": "4a26063c-9990-4cb6-bf53-b06fa482a75f",
      "metadata": {
        "id": "4a26063c-9990-4cb6-bf53-b06fa482a75f"
      },
      "source": [
        "### Exercise 1a - Create and visualize a system with mBuild\n",
        "1. Create and visualize a molecule of choice with mbuild using SMILES string\n",
        "    - Tips: Google molecule name + SMILES usually return the input you need\n",
        "    - Note: you will need to set the options `smiles=True` in `mb.load()`\n",
        "    - Tips: you can look at how we create the water molecule 2 cells\n",
        "1. mBuid also supports loading a molecule/system from various file format\n",
        "    - Download a pdb file from https://files.rcsb.org/view/1OIL.pdb using wget\n",
        "    - Load in the file and visualize with `mbuild`"
      ]
    },
    {
      "cell_type": "code",
      "execution_count": null,
      "id": "c19fe150-01c7-4553-b529-12013c3f09bf",
      "metadata": {
        "id": "c19fe150-01c7-4553-b529-12013c3f09bf"
      },
      "outputs": [],
      "source": [
        "# Exercise 1a.1\n",
        "compound = mb.???(???, smiles=???)\n",
        "compound.???()"
      ]
    },
    {
      "cell_type": "code",
      "execution_count": null,
      "id": "6d23b275-93b4-469d-b701-e68105875710",
      "metadata": {
        "id": "6d23b275-93b4-469d-b701-e68105875710"
      },
      "outputs": [],
      "source": [
        "# Exercise 1a.2\n",
        "!wget -O 1OIL.pdb https://files.rcsb.org/view/1OIL.pdb\n",
        "protein = mb.???(\"1OIL.pdb\") # also can load .mol2, .xyz, .hoomdxml, .gro,\n",
        "protein.???"
      ]
    },
    {
      "cell_type": "markdown",
      "id": "1a6e3c80-ab57-411f-a27b-3841e8339007",
      "metadata": {
        "id": "1a6e3c80-ab57-411f-a27b-3841e8339007"
      },
      "source": [
        "### <font color=\"red\"><b>Exercise 1a Example Answer</b></font>\n",
        "\n",
        "<details>\n",
        "    <summary>Click once on to hide/unhide the answer!</summary>\n",
        "    \n",
        "        # Loading from a SMILES string\n",
        "         \n",
        "        caffeine = mb.load(\"CN1C=NC2=C1C(=O)N(C(=O)N2C)C\", smiles=True)\n",
        "        caffeine.visualize()\n",
        "\n",
        "\n",
        "        # Loading from a pdb file\n",
        "    \n",
        "    \n",
        "        !wget -O 1OIL.pdb https://files.rcsb.org/view/1OIL.pdb\n",
        "        protein = mb.load(\"1OIL.pdb\")\n",
        "        protein.visualize()\n",
        "        \n",
        "</details>"
      ]
    },
    {
      "cell_type": "markdown",
      "id": "46613ec1-4306-41ee-ae4c-ed2cd142bd1c",
      "metadata": {
        "id": "46613ec1-4306-41ee-ae4c-ed2cd142bd1c"
      },
      "source": [
        "- Create a compound from a recipe gives us more control over the structure, such as bond length and angle. This level of details would be important some engine.\n",
        "    - For example: Most Monte-Carlo simulation engines do not handle harmonic bond, hence, it's important for the input structure to have the correct bond length.\n",
        "- mBuild comes with a few core recipes located in `mbuild.lib`, but user can also subclass from `mbuild.Compound` to build up their own structure."
      ]
    },
    {
      "cell_type": "code",
      "execution_count": null,
      "id": "c830433a-2c06-4f18-8dea-60da030e26aa",
      "metadata": {
        "id": "c830433a-2c06-4f18-8dea-60da030e26aa"
      },
      "outputs": [],
      "source": [
        "# Load structure from recipes - Water, delivered with mBuild\n",
        "from mbuild.lib.molecules.water import WaterSPC\n",
        "water = WaterSPC()\n",
        "water_box = mb.fill_box(water, box=[5,5,5], n_compounds=100)\n",
        "\n",
        "\"\"\"Visualization utilities\"\"\"\n",
        "print(water_box.print_hierarchy(show_tree=False))  # print_hierarchy() in normal colab"
      ]
    },
    {
      "cell_type": "code",
      "execution_count": null,
      "id": "fb77d155-4837-4b8c-ae0a-1d04e6872636",
      "metadata": {
        "id": "fb77d155-4837-4b8c-ae0a-1d04e6872636"
      },
      "outputs": [],
      "source": [
        "water_box.visualize()"
      ]
    },
    {
      "cell_type": "code",
      "execution_count": null,
      "id": "32509443-2776-454f-aae7-27665f25acc6",
      "metadata": {
        "id": "32509443-2776-454f-aae7-27665f25acc6"
      },
      "outputs": [],
      "source": [
        "# Load structure from recipes - Graphene, custom built\n",
        "graphene = GraphenePore(pore_length=4,\n",
        "                        pore_depth=4,\n",
        "                        n_sheets=1,\n",
        "                        pore_width=2,\n",
        "                        slit_pore_dim=1)\n",
        "graphene.translate(-graphene.center)\n",
        "# Try changing the n_sheets to form more layers\n",
        "\"\"\"Visualization utility\"\"\"\n",
        "graphene.visualize()"
      ]
    },
    {
      "cell_type": "markdown",
      "id": "67eadc07-72f5-41a4-ab07-22a4f13de1cc",
      "metadata": {
        "id": "67eadc07-72f5-41a4-ab07-22a4f13de1cc"
      },
      "source": [
        "### Exercise 1b - Fill box and solvate\n",
        "- mBuild utilize PACKMOL as the backend to perform packing molecules, solvating a solute. These functionalities are stored under `mbuild.packing`, with the two most frequently used methods being `packing.fill_box` and `packing.solvate`. Here, we will test out the `fill_box` method.\n",
        "    - Create a packed box of ethanol following the procedure\n",
        "        * Create an ethanol molecule using SMILES string\n",
        "        * Pack a box of ethanol using the `packing.fill_box`, you will need to provide\n",
        "            * `compound`: The molecule that is to be packed (expecting type `mb.Compound`)\n",
        "            * `n_compounds`: The number of molecule (expecting type `int`)\n",
        "            * `box`: The size of the box (define in form of [x, y, z], in all in nm)\n",
        "        * Visualize the packed box"
      ]
    },
    {
      "cell_type": "code",
      "execution_count": null,
      "id": "91da9df1-86ea-4951-a084-a49248ff3e7e",
      "metadata": {
        "id": "91da9df1-86ea-4951-a084-a49248ff3e7e"
      },
      "outputs": [],
      "source": [
        "# Exercise 1b.1\n",
        "ethanol = mb.load(???, smiles=???)\n",
        "ethanol_box = mb.???(compound=???,\n",
        "                     n_compounds=???,\n",
        "                     box=???)\n",
        "ethanol_box.visualize()"
      ]
    },
    {
      "cell_type": "markdown",
      "id": "fcf057b9",
      "metadata": {
        "id": "fcf057b9"
      },
      "source": [
        "### <font color=\"red\"><b>Exercise 1b Example Answer</b></font>\n",
        "\n",
        "<details>\n",
        "    <summary>Click once on to hide/unhide the answer!</summary>\n",
        "    \n",
        "        ethanol = mb.load(\"CCO\", smiles=True)\n",
        "        ethanol_box = mb.fill_box(compound=ethanol,\n",
        "                                  n_compounds=200,\n",
        "                                  box=[3, 3, 3].\n",
        "                    )\n",
        "        ethanol_box.visualize()\n",
        "</details>"
      ]
    },
    {
      "cell_type": "markdown",
      "id": "a42c8d9d-7c69-4bac-9712-97f19573339d",
      "metadata": {
        "id": "a42c8d9d-7c69-4bac-9712-97f19573339d",
        "tags": []
      },
      "source": [
        "## __2. Load A ForceField__\n",
        "----\n",
        "\n",
        "- In the MoSDeF ecosystem, we stored forcefield is stored in XML format, which contains information about version, combining rule, atom types, connection types and associated doi. Each atom type also includes a `def`, which stores the SMARTS definition, and `doi`, which store the original paper that the parameters are sourced from.\n",
        "- Currently, there are two XML formats supported by MoSDeF tools, one of which is an extended version of OpenMM XML, while the other is newly developed to include more information that include additional information that we believe would be beneficial for performing TRUE research."
      ]
    },
    {
      "cell_type": "code",
      "execution_count": null,
      "id": "db04ae9e-e317-4ceb-a161-52e82d67cdba",
      "metadata": {
        "id": "db04ae9e-e317-4ceb-a161-52e82d67cdba",
        "tags": []
      },
      "outputs": [],
      "source": [
        "carbon_forcefield = gmso.ForceField(\"../forcefields/carbon.xml\")\n",
        "carbon_forcefield"
      ]
    },
    {
      "cell_type": "code",
      "execution_count": null,
      "id": "25f98900-15d5-408b-befe-7e310ddea8c0",
      "metadata": {
        "id": "25f98900-15d5-408b-befe-7e310ddea8c0"
      },
      "outputs": [],
      "source": [
        "\"\"\"Basic attributes of each atom type\"\"\"\n",
        "for name, atype in carbon_forcefield.atom_types.items():\n",
        "    print(atype)\n",
        "    print(\"SMARTS definition:\", atype.definition)\n",
        "    print(\"Potential expression\")\n",
        "    display(atype.expression)\n",
        "    print(atype.parameters)"
      ]
    },
    {
      "cell_type": "code",
      "execution_count": null,
      "id": "b354d174-9368-4c14-995b-b14d3d9da623",
      "metadata": {
        "id": "b354d174-9368-4c14-995b-b14d3d9da623"
      },
      "outputs": [],
      "source": [
        "spce_forcefield = gmso.ForceField(\"../forcefields/spce.xml\")\n",
        "spce_forcefield"
      ]
    },
    {
      "cell_type": "code",
      "execution_count": null,
      "id": "42607306-c419-4c9c-8f1f-97ce8a6681fc",
      "metadata": {
        "id": "42607306-c419-4c9c-8f1f-97ce8a6681fc"
      },
      "outputs": [],
      "source": [
        "\"\"\"Basic attributes of each connection type\"\"\"\n",
        "for name, btype in spce_forcefield.bond_types.items():\n",
        "    print(btype)\n",
        "    print(\"Potential expression\")\n",
        "    display(btype.expression)\n",
        "    print(btype.parameters)"
      ]
    },
    {
      "cell_type": "markdown",
      "id": "b0e1fb98-446b-4929-aaaa-5251df68e057",
      "metadata": {
        "id": "b0e1fb98-446b-4929-aaaa-5251df68e057"
      },
      "source": [
        "### Exercise 2 - Load a force field and inspect some of its attributes\n",
        "1. Load the \"OPLS\" forcefield at `\"../forcefields/oplsaa.xml\"` to an object named `oplsaa`\n",
        "2. Inspect the forcefield\n",
        "    - Try calling `oplsaa.__dict__` and see all attributes that a force field has\n",
        "    - What is the comining rule and scaling factor of this forcefield\n",
        "3. Inspect some attributes of an atomtype\n",
        "    - Inspect the potential expression\n",
        "    - Notable attributes"
      ]
    },
    {
      "cell_type": "code",
      "execution_count": null,
      "id": "8208fc16-bd99-4583-9971-8ce084b2cbfe",
      "metadata": {
        "id": "8208fc16-bd99-4583-9971-8ce084b2cbfe"
      },
      "outputs": [],
      "source": [
        "# Start your exercise here\n",
        "oplsaa = gmso.???()"
      ]
    },
    {
      "cell_type": "markdown",
      "id": "e4301d71",
      "metadata": {
        "id": "e4301d71"
      },
      "source": [
        "### <font color=\"red\"><b>Exercise 2 Example Answer</b></font>\n",
        "\n",
        "<details>\n",
        "    <summary>Click once on to hide/unhide the answer!</summary>\n",
        "    \n",
        "        oplsaa = gmso.ForceField(\"../forcefields/oplsaa.xml\")\n",
        "        print(oplsaa.__dict__)\n",
        "</details>"
      ]
    },
    {
      "cell_type": "markdown",
      "id": "7af0eef6-6e60-4448-bb20-025bff8f6609",
      "metadata": {
        "id": "7af0eef6-6e60-4448-bb20-025bff8f6609",
        "tags": []
      },
      "source": [
        "## __3. Parameterization__\n",
        "----\n",
        "- MoSDeF's backend data structure supports automatic atom typing and parameterization (mapping atom types and connection types stored in a loaded forcefield to a GMSO structure).\n",
        "- This is done internally using Foyer, which performs graph matching between the molecule bond graph (of the GMSO Topology object) to the atom type SMARTS string. The algorithm for the processed is outlined in this [paper](https://www.journals.elsevier.com/computational-materials-science).\n",
        "- The parameterization step created a typed Topology, which would be ready to be saved out to various file formats, ready to be taken in by corresponding simulation codes."
      ]
    },
    {
      "cell_type": "code",
      "execution_count": null,
      "id": "dd3b0481-ff0b-4c0f-bc8e-8d36aff83b98",
      "metadata": {
        "id": "dd3b0481-ff0b-4c0f-bc8e-8d36aff83b98",
        "tags": []
      },
      "outputs": [],
      "source": [
        "from gmso.parameterization import apply\n",
        "\n",
        "graphene_top = graphene.to_gmso()\n",
        "single_water_top = water.to_gmso()\n",
        "water_top = water_box.to_gmso()\n",
        "\n",
        "graphene_ptop = apply(graphene_top, carbon_forcefield, identify_connections=True)\n",
        "single_water_ptop = apply(single_water_top, spce_forcefield, identify_connections=True)\n",
        "water_ptop = apply(water_top, spce_forcefield, identify_connections=True)"
      ]
    },
    {
      "cell_type": "code",
      "execution_count": null,
      "id": "ee5bf9b9-07cb-4500-997c-528399596366",
      "metadata": {
        "id": "ee5bf9b9-07cb-4500-997c-528399596366"
      },
      "outputs": [],
      "source": [
        "# Iterable attributes\n",
        "# graphene_top.sites\n",
        "# graphene_top.bonds\n",
        "# graphene_top.angles\n",
        "# graphene_top.dihedrals\n",
        "# graphene_top.impropers\n",
        "\n",
        "display(graphene_ptop.sites[0].atom_type.expression)\n",
        "print(f\"{graphene_ptop.sites[0].atom_type.parameters}\")"
      ]
    },
    {
      "cell_type": "code",
      "execution_count": null,
      "id": "ea4e9d96-eda9-4a14-863b-bc207c3eef7f",
      "metadata": {
        "id": "ea4e9d96-eda9-4a14-863b-bc207c3eef7f"
      },
      "outputs": [],
      "source": [
        "\"\"\"Utility to output system as Dataframe\"\"\"\n",
        "single_water_ptop.to_dataframe(site_attrs=[\"atom_type.parameters\"])"
      ]
    },
    {
      "cell_type": "code",
      "execution_count": null,
      "id": "b86e2c48-556b-4a02-b650-da96802f65e3",
      "metadata": {
        "id": "b86e2c48-556b-4a02-b650-da96802f65e3"
      },
      "outputs": [],
      "source": [
        "\"\"\"Utility to output system as Dataframe\"\"\"\n",
        "graphene_ptop.to_dataframe(site_attrs=[\"atom_type.parameters\"])"
      ]
    },
    {
      "cell_type": "markdown",
      "id": "43f228fd-b222-4a0b-b519-ab9e584c42a1",
      "metadata": {
        "id": "43f228fd-b222-4a0b-b519-ab9e584c42a1"
      },
      "source": [
        "### Exercise 3 - Parametrized your solvent\n",
        "1. Use the OPLS to try parameterize the molecule you created in the above exercise (it's may or may not be successful depends on how exotic the molecule you created)\n",
        "    - Start by converting your compound to a GMSO `Topology`\n",
        "    - Use the `apply` method to perform the parameterization.\n",
        "    - Summarize the all the atomtypes in a dataframe\n",
        "2. Open the docstring for `Topology.to_dataframe`\n",
        "    - See what you can modify the output of the dataframe to get the information you need.\n",
        "    "
      ]
    },
    {
      "cell_type": "code",
      "execution_count": null,
      "id": "246b20aa-d0b2-4938-9f2f-da991a5f8117",
      "metadata": {
        "id": "246b20aa-d0b2-4938-9f2f-da991a5f8117"
      },
      "outputs": [],
      "source": [
        "### Start your exercise here\n",
        "topology = compound.to_gmso() # smiles string compound generated above\n",
        "apply(???,\n",
        "      ???,\n",
        "      identify_connections=True)\n",
        "\n",
        "topology.???(site_attrs=[\"atom_type.parameters\"])"
      ]
    },
    {
      "cell_type": "markdown",
      "id": "14e3ed1f",
      "metadata": {
        "id": "14e3ed1f"
      },
      "source": [
        "### <font color=\"red\"><b>Exercise 3 Example Answer</b></font>\n",
        "\n",
        "<details>\n",
        "    <summary>Click once on to hide/unhide the answer!</summary>\n",
        "    \n",
        "        # Parameterize the created compound with the OPLS-AA force field\n",
        "\n",
        "        topology = compound.to_gmso()\n",
        "        apply(topology,\n",
        "              oplsaa,\n",
        "             identify_connection=True)\n",
        "\n",
        "        topology.to_dataframe(site_attrs=[\"atom_type.parameters\"])\n",
        "\n",
        "        # Print out the docstring of Topology.to_dataframe\n",
        "        help(Topology.to_dataframe) # Run this is a new cell\n",
        "\n",
        "</details>"
      ]
    },
    {
      "cell_type": "markdown",
      "id": "114d292e-a0af-477e-8d91-68b300253c57",
      "metadata": {
        "id": "114d292e-a0af-477e-8d91-68b300253c57",
        "tags": []
      },
      "source": [
        "## __4. Save out to Cassandra files__\n",
        "----\n",
        "- The GMSO data structure provide direct support to multiple simulation engines, including GROMACS, LAMMPS, HOOMD-blue, GOMC and Cassandra. This includes the ability to directly save the typed Topology to molecular file input which can be used directly by the corresponding engines.\n",
        "- In this example, we are writing out the file into Cassandra file format (`.mcf` or molecular connectivity file)."
      ]
    },
    {
      "cell_type": "code",
      "execution_count": null,
      "id": "a591f8e6-a2c2-4734-bd06-447bc64fa826",
      "metadata": {
        "id": "a591f8e6-a2c2-4734-bd06-447bc64fa826"
      },
      "outputs": [],
      "source": [
        "# Saving out file and inspect the output\n",
        "graphene_ptop.save(\"graphene.mcf\", overwrite=True)\n",
        "!cat graphene.mcf"
      ]
    },
    {
      "cell_type": "markdown",
      "id": "345b5059",
      "metadata": {
        "id": "345b5059"
      },
      "source": [
        "### Exercise 4 - Save out the parameterized Water\n",
        "Use similar syntax as above, save out the `.mcf` for the parameterized water (the `water_ptop` object created above) and print out the file (using `!cat`)\n",
        "    "
      ]
    },
    {
      "cell_type": "code",
      "execution_count": null,
      "id": "fbc9eab0",
      "metadata": {
        "id": "fbc9eab0"
      },
      "outputs": [],
      "source": [
        "### Start your exercise here\n",
        "water_ptop.???(???, overwrite=???)\n",
        "!cat ???"
      ]
    },
    {
      "cell_type": "markdown",
      "id": "c8f3cde2",
      "metadata": {
        "id": "c8f3cde2"
      },
      "source": [
        "### <font color=\"red\"><b>Exercise 4 Example Answer</b></font>\n",
        "\n",
        "<details>\n",
        "    <summary>Click once on to hide/unhide the answer!</summary>\n",
        "    \n",
        "        water_ptop.save(\"water.mcf\", overwrite=True)\n",
        "        !cat water.mcf\n",
        "\n",
        "</details>"
      ]
    },
    {
      "cell_type": "markdown",
      "id": "d7d1dbb2-2282-4eac-be45-da723c9101c9",
      "metadata": {
        "id": "d7d1dbb2-2282-4eac-be45-da723c9101c9"
      },
      "source": [
        "## __5. Set up Cassandra input file and run simulation (Optional)__\n",
        "----\n",
        "- In this step, we will attempt to use `mosdef_cassandra`, developed by Ryan DeFever et al., from the Maginn Group. The library provide utility to interface between MoSDeF core software stack to Cassandra. The library also provides a Python interface to define run-time parameters for the Monte Carlo simulation. Both `mosdef_cassandra` and `Cassandra` are installable through the `conda-forge` channel (for Linux and MacOS with Intel architecture).\n",
        "- Here, we will run a short equilibration simulation just to demonstrate that we are able to write out are syntactically correct and are ready to be used as input for simulation engine. For the complete workflow, please refer to the original paper and its supplementa Github repository:\n",
        "    - Peter Cummings, Clare McCabe, Christopher Iacovella, et al. Open-Source Molecular Modeling Software in Chemical Engineering Focusing on the Molecular Simulation Design Framework. Authorea. November 30, 2020.\n",
        "    - https://github.com/mosdef-hub/mosdef_slitpore"
      ]
    },
    {
      "cell_type": "code",
      "execution_count": null,
      "id": "baa21eb4-9162-44a6-96d1-c9717f756b05",
      "metadata": {
        "id": "baa21eb4-9162-44a6-96d1-c9717f756b05"
      },
      "outputs": [],
      "source": [
        "import mosdef_cassandra as mc\n",
        "import unyt as u\n",
        "\n",
        "# set variables\n",
        "n_steps = 10000\n",
        "temperature = 300 * u.K\n",
        "mu = -36.0 * u.kJ / u.mol\n",
        "\n",
        "# Create box and species list\n",
        "box_list = [graphene]\n",
        "species_list = [graphene_ptop,\n",
        "                single_water_ptop]\n",
        "\n",
        "# Specify mols at start of the simulation\n",
        "mols_in_boxes = [[graphene_ptop.n_sites, 0]]\n",
        "mols_to_add = [[0, 100]]\n",
        "\n",
        "# Create MC system\n",
        "system = mc.System(box_list,\n",
        "                   species_list,\n",
        "                   mols_in_boxes=mols_in_boxes,\n",
        "                   mols_to_add=mols_to_add)\n",
        "moves = mc.MoveSet(\"gcmc\", species_list)\n",
        "\n",
        "# Specify the restricted insertion\n",
        "restricted_type = [[None, \"slitpore\"]]\n",
        "restricted_value = [[None, 0.5 * 4.0 * u.nm]]\n",
        "moves.add_restricted_insertions(\n",
        "    species_list, restricted_type, restricted_value\n",
        ")\n",
        "\n",
        "\n",
        "# Set thermodynamic properties\n",
        "thermo_props = [\n",
        "    \"energy_total\",\n",
        "    \"energy_intervdw\",\n",
        "    \"energy_interq\",\n",
        "    \"nmols\",\n",
        "]\n",
        "\n",
        "default_args = {\n",
        "    \"run_name\" : \"gcmc\",\n",
        "    \"cutoff_style\": \"cut\",\n",
        "    \"charge_style\": \"ewald\",\n",
        "    \"rcut_min\": 0.5 * u.angstrom,\n",
        "    \"vdw_cutoff\": 9.0 * u.angstrom,\n",
        "    \"charge_cutoff\": 9.0 * u.angstrom,\n",
        "    \"properties\": thermo_props,\n",
        "    \"angle_style\": [\"fixed\", \"fixed\"],\n",
        "    \"coord_freq\": 1000,\n",
        "    \"prop_freq\": 100,\n",
        "}\n",
        "\n",
        "custom_args = {**default_args}\n",
        "\n",
        "mc.run(\n",
        "    system=system,\n",
        "    moveset=moves,\n",
        "    run_type=\"equilibration\",\n",
        "    run_length=n_steps,\n",
        "    temperature=temperature,\n",
        "    chemical_potentials=[\"none\", mu],\n",
        "    **custom_args,\n",
        ")"
      ]
    },
    {
      "cell_type": "code",
      "execution_count": null,
      "id": "a3781aca-8705-4d7e-a1aa-3f8cae573ff0",
      "metadata": {
        "id": "a3781aca-8705-4d7e-a1aa-3f8cae573ff0"
      },
      "outputs": [],
      "source": [
        "# Viewing the output file\n",
        "!cat gcmc.out.log"
      ]
    },
    {
      "cell_type": "code",
      "execution_count": null,
      "id": "1df07b2c",
      "metadata": {
        "id": "1df07b2c"
      },
      "outputs": [],
      "source": [
        "# Visualization of the final frame\n",
        "lines = !grep -n MC_STEP gcmc.out.xyz | tail -n 1 | awk -F':' '{{print $$1}}'\n",
        "total= !cat gcmc.out.xyz|wc -l\n",
        "last = int(total[0])-int(lines[0])+2\n",
        "!tail -n $last gcmc.out.xyz > viz2.xyz\n",
        "system = mb.load(\"viz2.xyz\")\n",
        "system.visualize()"
      ]
    },
    {
      "cell_type": "markdown",
      "id": "f9b0e10e-2868-4bf1-9207-067a87614b78",
      "metadata": {
        "id": "f9b0e10e-2868-4bf1-9207-067a87614b78"
      },
      "source": [
        "- This will be what the outcome systems look like (if we let the MC simulation runs it course).\n",
        "![snapshot](https://github.com/mosdef-hub/CECAM-MoSDeF-Workshop/blob/main/images/slitpore_sims.png?raw=1)\n",
        "- The output can be used as initial configuration for following Molecular Dynamics (MD) simulations using _GROMACS_, _LAMMPS_, or _HOOMD-blue_, all of which is supported by MoSDeF.\n",
        "\n"
      ]
    },
    {
      "cell_type": "markdown",
      "id": "ae93b57b-a236-4a36-b390-314e7f5874cb",
      "metadata": {
        "id": "ae93b57b-a236-4a36-b390-314e7f5874cb"
      },
      "source": [
        "# Recap\n",
        "----\n",
        "- In summary, here we have used `mBuild` to initialize a graphene slitpore and SPC/E water, then used `GMSO` to load in force field, and apply the relevant parameters to the created systems. Finally, we used `mosdef_cassandra`, the Cassandra's Python API, to run a short GC-MC simulation to insert the said water into the slipore. The output configuration can be used for other simulation, i.e., NVT with MD to study intra-pore water dynamics, or desorption with MC.\n",
        "- The developers of Cassandra from the Maginn group will have a tutorial later today if you are interested about this simulation engine."
      ]
    }
  ],
  "metadata": {
    "colab": {
      "provenance": []
    },
    "kernelspec": {
      "display_name": "Python 3 (ipykernel)",
      "language": "python",
      "name": "python3"
    },
    "language_info": {
      "codemirror_mode": {
        "name": "ipython",
        "version": 3
      },
      "file_extension": ".py",
      "mimetype": "text/x-python",
      "name": "python",
      "nbconvert_exporter": "python",
      "pygments_lexer": "ipython3",
      "version": "3.10.11"
    }
  },
  "nbformat": 4,
  "nbformat_minor": 5
}
