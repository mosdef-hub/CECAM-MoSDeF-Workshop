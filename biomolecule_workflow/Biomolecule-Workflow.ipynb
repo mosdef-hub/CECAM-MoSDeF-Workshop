{
  "cells": [
    {
      "cell_type": "markdown",
      "id": "0ecacf64",
      "metadata": {
        "id": "0ecacf64"
      },
      "source": [
        "<a href=\"https://colab.research.google.com/github/mosdef-hub/CECAM-MoSDeF-Workshop/blob/main/biomolecule_workflow/Biomolecule-Workflow.ipynb\" target=\"_parent\"><img src=\"https://colab.research.google.com/assets/colab-badge.svg\" alt=\"Open In Colab\"/></a>"
      ]
    },
    {
      "cell_type": "markdown",
      "id": "c678f981",
      "metadata": {
        "id": "c678f981"
      },
      "source": [
        "# MoSDeF Biomolecule Workflow\n",
        "\n",
        "## Tutorial summary\n",
        "This tutorial aims to familiarize a molecular simulations researcher on the ways to create a complex molecule recipe and build-up an initial system using that recipe. In addition, after creating the inital system we demonstrate how to identify missing forcefield parameters and parameterize a system using [Foyer](https://github.com/mosdef-hub/foyer) and [GMSO](https://github.com/mosdef-hub/gmso).  This demonstrates the strengths of using the [MoSDeF](https://github.com/mosdef-hub) simulation framework for creating modular, complex, and custom molecular systems for computational chemistry simulations.\n",
        "\n",
        "## Learning Objectives:\n",
        "* How to subclass an `mBuild.Compound` to create your own recipe\n",
        "* How to use visualization to identify specific atoms in a [mBuild.Compound](https://github.com/mosdef-hub/mbuild/blob/468028b5d0185c7325f91ee4fce7e50e73d1306d/mbuild/compound.py#L57)\n",
        "* How to use gmso to debug parameterization\n",
        "* How to add missing parameters to forcefield xmls\n",
        "\n",
        "## Exercise Stages:\n",
        "0. Setup enviroment on Google Colab and import libraries\n",
        "1. Load molecules and create molecules\n",
        "    1. Exercise 1: Creating a simple recipe by identifying specific atoms by index\n",
        "    2. Exercise 2: Creating a more complex recipe by idenfiying atoms by method name\n",
        "    3. Exercise 3: Use our complex recipe to build a Chimeric spider silk protein\n",
        "2. Pack a box of solvated protein\n",
        "3. Load forcefield\n",
        "4. Apply forcefield\n",
        "    1. Exercise 4: Forcefield correction\n",
        "5. Reload forcefield\n",
        "6. Write `Hoomd`\n",
        "7. Run `Hoomd`\n",
        "8. Analyize trajectory results\n",
        "---"
      ]
    },
    {
      "cell_type": "markdown",
      "id": "c4465df4",
      "metadata": {
        "id": "c4465df4"
      },
      "source": [
        "## 0. Set up environment on Google Colab\n",
        "---"
      ]
    },
    {
      "cell_type": "code",
      "execution_count": null,
      "id": "ced4730d",
      "metadata": {
        "id": "ced4730d"
      },
      "outputs": [],
      "source": [
        "!pip install -q condacolab\n",
        "import condacolab\n",
        "condacolab.install_miniforge()"
      ]
    },
    {
      "cell_type": "markdown",
      "id": "438b9d9e",
      "metadata": {
        "id": "438b9d9e"
      },
      "source": [
        "Run the cell below again after restart."
      ]
    },
    {
      "cell_type": "code",
      "execution_count": null,
      "id": "4c0c8fae",
      "metadata": {
        "id": "4c0c8fae"
      },
      "outputs": [],
      "source": [
        "import condacolab\n",
        "condacolab.check()\n",
        "\n",
        "!conda install mamba\n",
        "!mamba install anaconda-client -n base\n",
        "\n",
        "!git clone https://github.com/mosdef-hub/CECAM-MoSDeF-Workshop\n",
        "\n",
        "!git clone https://github.com/kierannp/protein_builder.git\n",
        "%cd protein_builder\n",
        "!pip install .\n",
        "%cd ..\n",
        "!pip install --upgrade ipykernel\n",
        "\n",
        "!mamba install -c conda-forge py3Dmol nglview mbuild hoomd unyt forcefield-utilities fresnel gsd openbabel\n",
        "!mamba install gmso=0.11.2"
      ]
    },
    {
      "cell_type": "code",
      "execution_count": null,
      "id": "ef6a3454",
      "metadata": {
        "id": "ef6a3454"
      },
      "outputs": [],
      "source": [
        "# Import Libraries\n",
        "import mbuild as mb\n",
        "import gmso\n",
        "import hoomd\n",
        "from pBuilder import Arginine, Glycine, Glutamine, Leucine, Alanine # R, G, Q, L, A\n",
        "\n",
        "import io\n",
        "import warnings\n",
        "\n",
        "import fresnel\n",
        "import IPython\n",
        "import numpy\n",
        "import packaging.version\n",
        "import PIL\n",
        "import gsd.hoomd\n",
        "import math\n",
        "import numpy as np"
      ]
    },
    {
      "cell_type": "markdown",
      "id": "51e058dc",
      "metadata": {
        "id": "51e058dc"
      },
      "source": [
        "## 1. Load Molecules\n",
        "---"
      ]
    },
    {
      "cell_type": "markdown",
      "id": "af92f584",
      "metadata": {
        "id": "af92f584"
      },
      "source": [
        "We can visualize the monomer units we will use to make our protein."
      ]
    },
    {
      "cell_type": "code",
      "execution_count": null,
      "id": "7b13a66e",
      "metadata": {
        "id": "7b13a66e"
      },
      "outputs": [],
      "source": [
        "mol = Glycine() # You can replace this line with different amino acids listed above to see what they look like\n",
        "mol.visualize()"
      ]
    },
    {
      "cell_type": "markdown",
      "id": "5860c38d",
      "metadata": {
        "id": "5860c38d"
      },
      "source": [
        "Sometimes NGLView is preferable as a visualization engine, since it highlights index number by hovering over the atoms."
      ]
    },
    {
      "cell_type": "code",
      "execution_count": null,
      "id": "4b79e1b1",
      "metadata": {
        "id": "4b79e1b1"
      },
      "outputs": [],
      "source": [
        "#these line enable the nglviewer in colab\n",
        "from google.colab import output\n",
        "output.enable_custom_widget_manager()\n",
        "\n",
        "mol.visualize(backend='NGLView')"
      ]
    },
    {
      "cell_type": "markdown",
      "id": "5a0ba083",
      "metadata": {
        "id": "5a0ba083"
      },
      "source": [
        "## 1.1 Protein Background\n",
        "---"
      ]
    },
    {
      "cell_type": "markdown",
      "id": "33143ce4",
      "metadata": {
        "id": "33143ce4"
      },
      "source": [
        "Amino acids have both amino and carboxylic acid functional groups and possess a generic structure as seen below:\n",
        "\n",
        "![image info](https://github.com/mosdef-hub/CECAM-MoSDeF-Workshop/blob/main/images/Amino_acid_generic_structure.png?raw=1)"
      ]
    },
    {
      "cell_type": "markdown",
      "id": "dee36054",
      "metadata": {
        "id": "dee36054"
      },
      "source": [
        "Proteins are polypeptide polymers that are held together by peptide bonds occuring between amino acids. Proteins have ends specificed as N-terminus and C-terminus, the green and blue molecular regions in the image below, respectively."
      ]
    },
    {
      "cell_type": "markdown",
      "id": "21fd5bf9",
      "metadata": {
        "id": "21fd5bf9"
      },
      "source": [
        "<img src=\"https://github.com/mosdef-hub/CECAM-MoSDeF-Workshop/blob/main/images/Tetrapeptide_structural_formulae_v.1.png?raw=1\" alt=\"C/N-terminus\" width=\"600\"/>"
      ]
    },
    {
      "cell_type": "markdown",
      "id": "bf9af634",
      "metadata": {
        "id": "bf9af634"
      },
      "source": [
        "## 1.2 Subclassing `mBuild.Compound` to create modular molecules"
      ]
    },
    {
      "cell_type": "markdown",
      "id": "d8275a7a",
      "metadata": {
        "id": "d8275a7a"
      },
      "source": [
        "If we wish to develop a program that can make a protein from any sequence of amino acids we can utilize `mBuild`!"
      ]
    },
    {
      "cell_type": "markdown",
      "id": "3d967cbc",
      "metadata": {
        "id": "3d967cbc"
      },
      "source": [
        "First we can start with building a single amino acid from a smiles string. Not the just_name data object is just a dictionary that holds all amino acid SMILES strings given the name of the amino acid as the key."
      ]
    },
    {
      "cell_type": "code",
      "execution_count": null,
      "id": "02f752dc",
      "metadata": {
        "id": "02f752dc"
      },
      "outputs": [],
      "source": [
        "from pBuilder.all_names import *\n",
        "\n",
        "just_name['alanine'] #this data structure contains the SMILES names of all canonical amino acids"
      ]
    },
    {
      "cell_type": "markdown",
      "id": "3d508403",
      "metadata": {
        "id": "3d508403"
      },
      "source": [
        "Here is an example of building an mBuild.Compound from a SMILES string and associating certain atoms in that molecule with varibles."
      ]
    },
    {
      "cell_type": "code",
      "execution_count": null,
      "id": "59626e77",
      "metadata": {
        "id": "59626e77"
      },
      "outputs": [],
      "source": [
        "from pBuilder.all_names import *\n",
        "\n",
        "# Here is an example of the various amino acids that are used to create the protein\n",
        "class Alanine(mb.Compound):\n",
        "    def __init__(self):\n",
        "        super(Alanine, self).__init__()\n",
        "        alanine = mb.load(just_name['alanine'],smiles=True)\n",
        "        self.add(alanine)\n",
        "        self.name = \"Alanine\"\n",
        "        self.amine = alanine[5]\n",
        "        self.carboxyl = alanine[2]\n",
        "        amine_h = [alanine[11], alanine[12]]\n",
        "        carboxyl_o = alanine[3]\n",
        "        self.indices = [amine_h, carboxyl_o]"
      ]
    },
    {
      "cell_type": "markdown",
      "id": "eff88d4e",
      "metadata": {
        "id": "eff88d4e"
      },
      "source": [
        "# Exercise 1: Creating a simple recipe by identifying specific atoms by index\n",
        "Correct the code below by specifying the correct atom indices <br><br>\n",
        "*Hint: Visualize Glycine using `NGLView` to see which atoms indices need to specifed to mark part of the amino acid*"
      ]
    },
    {
      "cell_type": "code",
      "execution_count": null,
      "id": "ae5509a4",
      "metadata": {
        "id": "ae5509a4"
      },
      "outputs": [],
      "source": [
        "class Glycine(mb.Compound):\n",
        "    def __init__(self):\n",
        "        super(Glycine, self).__init__()\n",
        "        glycine = mb.load(just_name['glycine'],smiles=True)\n",
        "        self.add(glycine)\n",
        "        self.name = \"Glycine\"\n",
        "\n",
        "        # TODO identify the correct molecules in the glycine mBuild.Compound\n",
        "        self.amine = ???\n",
        "        self.carboxyl = ???\n",
        "        amine_h = ???\n",
        "        carboxyl_o = ???\n",
        "        self.indices = [amine_h, carboxyl_o]"
      ]
    },
    {
      "cell_type": "code",
      "execution_count": null,
      "id": "e468e1dc",
      "metadata": {},
      "outputs": [],
      "source": [
        "glycine = mb.load(just_name['glycine'],smiles=True)\n",
        "glycine.visualize(backend='NGLView')"
      ]
    },
    {
      "cell_type": "markdown",
      "id": "60e2ae09",
      "metadata": {
        "id": "60e2ae09"
      },
      "source": [
        "### <font color=\"red\"><b>Exercise 1 Answer</b></font>\n",
        "\n",
        "<details>\n",
        "    <summary>Click once to show answer!</summary>\n",
        "\n",
        "        class Glycine(mb.Compound):\n",
        "        def __init__(self):\n",
        "            super(Glycine, self).__init__()\n",
        "            glycine = mb.load(just_name['glycine'],smiles=True)\n",
        "            self.add(glycine)\n",
        "            self.name = \"Glycine\"\n",
        "            self.amine = glycine[4]\n",
        "            self.carboxyl = glycine[1]\n",
        "            amine_h = [glycine[8], glycine[9]]\n",
        "            carboxyl_o = glycine[3]\n",
        "            self.indices = [amine_h, carboxyl_o]\n",
        "\n",
        "</details>"
      ]
    },
    {
      "cell_type": "markdown",
      "id": "f5e21ec1",
      "metadata": {
        "id": "f5e21ec1"
      },
      "source": [
        "# Exercise 2: Creating a more complex recipe by idenfiying atoms by method name"
      ]
    },
    {
      "cell_type": "markdown",
      "id": "f2373530",
      "metadata": {
        "id": "f2373530"
      },
      "source": [
        "Once we have all the amino acids `mBuild.Compound` molecules created (as is implemented in the `pBuilder` package) we can create a `mBuild` class for building any generic protein. <br> <br>See if you can implement the remove_N_terminal method below."
      ]
    },
    {
      "cell_type": "code",
      "execution_count": null,
      "id": "bc42466c",
      "metadata": {
        "id": "bc42466c"
      },
      "outputs": [],
      "source": [
        "from pBuilder.utils import *\n",
        "from pBuilder.aminos import *\n",
        "\n",
        "class Protein(mb.Compound):\n",
        "    def __init__(self):\n",
        "        super().__init__()\n",
        "\n",
        "    def build(self, seq):\n",
        "        \"\"\"\n",
        "        Builds up a protein from a sequence of amino acids\n",
        "        \"\"\"\n",
        "        start_mol = symbol_class[seq[0]]()\n",
        "        N_terminal = self.remove_C_terminal(start_mol)\n",
        "        previous_acid = N_terminal\n",
        "        self.add(previous_acid,label='N-terminal')\n",
        "\n",
        "        for i, letter in enumerate(seq[1:-1]):\n",
        "            current_acid = symbol_class[letter]()\n",
        "            current_acid = self.remove_both_terminals(current_acid)\n",
        "            N_port = mb.Port(anchor=current_acid.amine,\n",
        "   orientation=[0, 1, -1],\n",
        "   separation=0.1)\n",
        "            C_port = mb.Port(anchor=current_acid.carboxyl,\n",
        "   orientation=[1, 0, 0],\n",
        "   separation=0.1)\n",
        "            current_acid.add(N_port, label='head')\n",
        "            current_acid.add(C_port, label='tail')\n",
        "            # current_acid['head'].rotate(around=[-10,0,1], theta=(i+1)*np.pi/4)\n",
        "            mb.force_overlap(move_this=current_acid,\n",
        "   from_positions=current_acid['head'],\n",
        "   to_positions=previous_acid['tail'])\n",
        "            self.add(current_acid, label='aa_'+str(i+1))\n",
        "            previous_acid = current_acid\n",
        "\n",
        "        final_mol = symbol_class[seq[-1]]()\n",
        "        C_terminal = self.remove_N_terminal(final_mol)\n",
        "\n",
        "        mb.force_overlap(move_this=C_terminal,\n",
        "            from_positions=C_terminal['head'],\n",
        "            to_positions=previous_acid['tail'])\n",
        "        self.add(C_terminal,label='C-terminal')\n",
        "\n",
        "    def remove_C_terminal(self, mol):\n",
        "        \"\"\"\n",
        "        Removes the C_terminal from an amino acid mBuild.Compound and returns the clipped amino acid\n",
        "        \"\"\"\n",
        "        amine_h, carboxyl_o = mol.indices\n",
        "        mol.remove(carboxyl_o)\n",
        "        mol.add(mb.Port(anchor=mol.carboxyl,\n",
        "     orientation=[0, 1, 0],\n",
        "     separation=0.1),\n",
        "          label='tail')\n",
        "        mol.spin(around=[0,1,0], theta=np.pi/2)\n",
        "        return mol\n",
        "\n",
        "    def remove_N_terminal(self, mol):\n",
        "        \"\"\"\n",
        "        Removes the N_terminal from an amino acid mBuild.Compound and returns the clipped amino acid\n",
        "        \"\"\"\n",
        "        # TODO get this method working!\n",
        "\n",
        "    def remove_both_terminals(self, mol):\n",
        "        \"\"\"\n",
        "        Removes both C and N terminus from the amino acid and returns clipped amino acid, this is used for amino acids in the middle of the protein\n",
        "        \"\"\"\n",
        "        amine_h, carboxyl_o = mol.indices\n",
        "        mol.remove(amine_h[0])\n",
        "        mol.remove(carboxyl_o)\n",
        "        return mol\n"
      ]
    },
    {
      "cell_type": "markdown",
      "id": "b0f6ee92",
      "metadata": {
        "id": "b0f6ee92"
      },
      "source": [
        "### <font color=\"red\"><b>Exercise 2 Answer</b></font>\n",
        "\n",
        "\n",
        "<details>\n",
        "    <summary>Click once show the answer!</summary>\n",
        "\n",
        "    def remove_N_terminal(self, mol):\n",
        "        \"\"\"\n",
        "        Removes the N_terminal from an amino acid mBuild.Compound and returns the clipped amino acid\n",
        "        \"\"\"\n",
        "        amine_h, carboxyl_o = mol.indices\n",
        "        mol.remove(amine_h[0])\n",
        "        mol.add(mb.Port(anchor=mol.amine,\n",
        "     orientation=[-1, .7, -.2],\n",
        "     separation=0.05),\n",
        "          label='head')\n",
        "        return mol\n",
        "\n",
        "</details>"
      ]
    },
    {
      "cell_type": "markdown",
      "id": "62388d86",
      "metadata": {
        "id": "62388d86"
      },
      "source": [
        "# Exercise 3: Use our complex recipe to build a Chimeric spider silk protein"
      ]
    },
    {
      "cell_type": "markdown",
      "id": "d6e70549",
      "metadata": {
        "id": "d6e70549"
      },
      "source": [
        "Here we are looking at a chimeric spider silk protein. This protein consists of a nonrepeat sequence of amino acids followed by a varible number of a repeated amino acid sequence. See if you can create something resembling the [NT2RepCT](https://www.nature.com/articles/nchembio.2269) spider silk protein. <br><br>\n",
        "*Hint: Utilize the `build` method in the Protein recipe and string manipulation*"
      ]
    },
    {
      "cell_type": "code",
      "execution_count": null,
      "id": "631df1a5",
      "metadata": {
        "id": "631df1a5"
      },
      "outputs": [],
      "source": [
        "# Uncomment the line below if you were unable to get the Protein class functioning\n",
        "# from pBuilder.polypeptide import Protein"
      ]
    },
    {
      "cell_type": "code",
      "execution_count": null,
      "id": "9b8764b8",
      "metadata": {
        "id": "9b8764b8"
      },
      "outputs": [],
      "source": [
        "n_repeats = 2\n",
        "chain = Protein()\n",
        "nonrepeat = 'GGQGGAGQGGYGGLGSQGAGRGGLGGQ'\n",
        "repeat = 'GAGAAAAAAGGAGQGGTGGLGSQGAGRGGL'\n",
        "chain.name=\"Protein\"\n",
        "# TODO create the sequence we want\n",
        "chain.translate(-chain.center) #translate_to, rotate, spin, rotate_dihedral\n",
        "chain.visualize()"
      ]
    },
    {
      "cell_type": "markdown",
      "id": "f87a4c14",
      "metadata": {
        "id": "f87a4c14"
      },
      "source": [
        "### <font color=\"red\"><b>Exercise 3 Answer</b></font>\n",
        "\n",
        "\n",
        "<details>\n",
        "    <summary>Click once on to hide/unhide the answer!</summary>\n",
        "\n",
        "    chain.build(nonrepeat+repeat*n_repeats + nonrepeat)\n",
        "\n",
        "</details>"
      ]
    },
    {
      "cell_type": "markdown",
      "id": "0a549c40",
      "metadata": {
        "id": "0a549c40"
      },
      "source": [
        "## 2. Combine and Solvate\n",
        "---"
      ]
    },
    {
      "cell_type": "markdown",
      "id": "775e359f",
      "metadata": {
        "id": "775e359f"
      },
      "source": [
        "Now that we have our protein build we can solvate it to try to get a native fold."
      ]
    },
    {
      "cell_type": "code",
      "execution_count": null,
      "id": "98b6f35b",
      "metadata": {
        "id": "98b6f35b"
      },
      "outputs": [],
      "source": [
        "rotable_bond = list(chain.bonds())[625]\n",
        "chain.rotate_dihedral(bond=rotable_bond, phi=3.14) #translate_to, rotate, spin, rotate_dihedral\n",
        "# control energy minimization\n",
        "chain.energy_minimize(steps=50)\n",
        "chain.visualize()"
      ]
    },
    {
      "cell_type": "code",
      "execution_count": null,
      "id": "a11277bd",
      "metadata": {
        "id": "a11277bd"
      },
      "outputs": [],
      "source": [
        "water = mb.load(\"O\", smiles=True)\n",
        "water.name=\"H2O\"\n",
        "packed_box = mb.fill_box([chain, water], n_compounds=[1,1000], box=[10,10,10])\n",
        "print(packed_box.print_hierarchy(show_tree=False))\n",
        "packed_box.visualize()"
      ]
    },
    {
      "cell_type": "code",
      "execution_count": null,
      "id": "dd4bfabf",
      "metadata": {
        "id": "dd4bfabf"
      },
      "outputs": [],
      "source": [
        "# save out and reload current state for future use\n",
        "packed_box.save(\"solvated_protein.pdb\", overwrite=True)\n",
        "reloaded_pdb = mb.load(\"solvated_protein.pdb\") #xyz, gro, lammpsdata, sdf, mol2, hoomdxml, json"
      ]
    },
    {
      "cell_type": "code",
      "execution_count": null,
      "id": "56a762fe",
      "metadata": {
        "id": "56a762fe"
      },
      "outputs": [],
      "source": [
        "! head \"solvated_protein.pdb\""
      ]
    },
    {
      "cell_type": "markdown",
      "id": "10f2b00c",
      "metadata": {
        "id": "10f2b00c"
      },
      "source": [
        "## 3. Load Two ForceFields\n",
        "---"
      ]
    },
    {
      "cell_type": "markdown",
      "id": "361c65a1",
      "metadata": {
        "id": "361c65a1"
      },
      "source": [
        "A `MoSDeF` compatible implementation of the Generalized Amber Forcefield (GAFF) can be found [here](https://github.com/rsdefever/GAFF-foyer)."
      ]
    },
    {
      "cell_type": "code",
      "execution_count": null,
      "id": "211e096d",
      "metadata": {
        "id": "211e096d"
      },
      "outputs": [],
      "source": [
        "gaff_forcefield = gmso.ForceField(\"./CECAM-MoSDeF-Workshop/forcefields/gaff.xml\")\n",
        "gaff_forcefield"
      ]
    },
    {
      "cell_type": "code",
      "execution_count": null,
      "id": "3df1dcc2",
      "metadata": {
        "id": "3df1dcc2"
      },
      "outputs": [],
      "source": [
        "spce_forcefield = gmso.ForceField(\"./CECAM-MoSDeF-Workshop/forcefields/spce.xml\")\n",
        "spce_forcefield"
      ]
    },
    {
      "cell_type": "markdown",
      "id": "33162e56",
      "metadata": {
        "id": "33162e56"
      },
      "source": [
        "## 4. Apply Forcefield\n",
        "---"
      ]
    },
    {
      "cell_type": "code",
      "execution_count": null,
      "id": "0e49a6b0",
      "metadata": {
        "id": "0e49a6b0"
      },
      "outputs": [],
      "source": [
        "from gmso.parameterization import apply\n",
        "\n",
        "gmso_top = packed_box.to_gmso()\n",
        "forcefield_matchingDict = {\"Protein\":gaff_forcefield, \"H2O\":spce_forcefield}\n",
        "gmso_top = packed_box.to_gmso()\n",
        "parameterized_top = apply(\n",
        "    gmso_top, forcefield_matchingDict, identify_connections=True,\n",
        ")"
      ]
    },
    {
      "cell_type": "markdown",
      "id": "728839ff",
      "metadata": {
        "id": "728839ff"
      },
      "source": [
        "### What Happened\n",
        "This error indicates that have particles in our mbuild system that are missing parameters in our xml forcefield file. We will show how to correct this below."
      ]
    },
    {
      "cell_type": "markdown",
      "id": "40977b3e",
      "metadata": {
        "id": "40977b3e"
      },
      "source": [
        "# Exercise 4: Forcefield correction\n",
        "\n",
        "See if you can figure out which lines to add to the forcefield file (gaff.xml) to get this to properly parameterize our system. <br><br>\n",
        "*Hint: We suggest substituting the parameters (c1,c3,n3) for the (c1, c3, n2) parameters and (c3,c2,oh) for the (c3, c1, oh) parameters*"
      ]
    },
    {
      "cell_type": "code",
      "execution_count": null,
      "id": "fb8dccc7",
      "metadata": {},
      "outputs": [],
      "source": [
        "import unyt as u\n",
        "from gmso.lib.potential_templates import PotentialTemplateLibrary  \n",
        "\n",
        "ff = gmso.ForceField(\"./CECAM-MoSDeF-Workshop/forcefields/gaff.xml\")        \n",
        "templates = PotentialTemplateLibrary()  \n",
        "harmonic_angle = templates[\"HarmonicAnglePotential\"]\n",
        "expression = harmonic_angle.expression  \n",
        "name = harmonic_angle.name\n",
        "variables = harmonic_angle.independent_variables     \n",
        "first_params = {  \n",
        "    \"k\": 562.3296 * u.kJ/u.mol/u.rad**2, #these parameters were substituted from (c1,c3,n3) from the link below\n",
        "    \"theta_eq\":1.9675096657732076*u.rad\n",
        "}\n",
        "second_params = ???\n",
        "        \n",
        "first_angle_type = gmso.AngleType(        \n",
        "    name=name, parameters=first_params,       \n",
        "    expression=expression,\n",
        "    independent_variables=variables,    \n",
        "    member_classes = (\"c1\", \"c3\", \"n2\")\n",
        ")\n",
        "second_angle_type = ???\n",
        "\n",
        "ff.angle_types[\"c1~c3~n2\"] = first_angle_type    \n",
        "ff.angle_types[\"c3~c1~oh\"] = ??? \n",
        "ff.version = 1.1 # updated version since we made modifications to the forcefield\n",
        "ff.name = \"gaff with added parameters from https://github.com/choderalab/ambermini/blob/master/share/amber/dat/leap/parm/gaff.dat\"\n",
        "ff.to_xml(\"gaff_added.xml\")"
      ]
    },
    {
      "cell_type": "markdown",
      "id": "ebd55c0a",
      "metadata": {
        "id": "ebd55c0a"
      },
      "source": [
        "### <font color=\"red\"><b>Exercise 4 Answer</b></font>\n",
        "\n",
        "\n",
        "<details>\n",
        "    <summary>Click once to show the answer!</summary>\n",
        "      \n",
        "      import unyt as u\n",
        "      from gmso.lib.potential_templates import PotentialTemplateLibrary \n",
        "      ff = gmso.ForceField(\"./CECAM-MoSDeF-Workshop/forcefields/gaff.xml\")        \n",
        "      templates = PotentialTemplateLibrary()  \n",
        "      harmonic_angle = templates[\"HarmonicAnglePotential\"]\n",
        "      expression = harmonic_angle.expression  \n",
        "      name = harmonic_angle.name\n",
        "      variables = harmonic_angle.independent_variables     \n",
        "      first_params = {  \n",
        "          \"k\": 562.3296 * u.kJ/u.mol/u.rad**2,\n",
        "          \"theta_eq\":1.9675096657732076*u.rad\n",
        "      }\n",
        "      second_params = {  \n",
        "          \"k\": 571.5344 * u.kJ/u.mol/u.rad**2,\n",
        "          \"theta_eq\":2.0099211665966696*u.rad\n",
        "      }\n",
        "                \n",
        "      first_angle_type = gmso.AngleType(        \n",
        "          name=name, parameters=first_params,       \n",
        "          expression=expression,\n",
        "          independent_variables=variables,    \n",
        "          member_classes = (\"c1\", \"c3\", \"n2\")\n",
        "      )\n",
        "      second_angle_type = gmso.AngleType(        \n",
        "          name=name, parameters=second_params,       \n",
        "          expression=expression,\n",
        "          independent_variables=variables,    \n",
        "          member_classes = (\"c3\", \"c1\", \"oh\")\n",
        "      )\n",
        "\n",
        "      ff.angle_types[\"c1~c3~n2\"] = first_angle_type\n",
        "      ff.angle_types[\"c3~c1~oh\"] = second_angle_type          \n",
        "      ff.version = 1.1                                                                                                                                          ff.name = \"gaff with added parameters from https://github.com/choderalab/ambermini/blob/master/share/amber/dat/leap/parm/gaff.dat\"\n",
        "      ff.to_xml(\"gaff_added.xml\")\n",
        "\n",
        "</details>"
      ]
    },
    {
      "cell_type": "markdown",
      "id": "c9bdeada",
      "metadata": {
        "id": "c9bdeada"
      },
      "source": [
        "## 5. Reload and apply the forcefield\n",
        "---"
      ]
    },
    {
      "cell_type": "markdown",
      "id": "994b050e",
      "metadata": {
        "id": "994b050e"
      },
      "source": [
        "We are assuming that you saved the new forcefield xml as gaff2.xml. If you weren't able to get the forcefield working please use gaff_ANSWER.xml."
      ]
    },
    {
      "cell_type": "code",
      "execution_count": null,
      "id": "435a0aae",
      "metadata": {
        "id": "435a0aae"
      },
      "outputs": [],
      "source": [
        "gaff_forcefield = gmso.ForceField(\"./CECAM-MoSDeF-Workshop/forcefields/gaff_ANSWER.xml\")\n",
        "gmso_top = packed_box.to_gmso()\n",
        "forcefield_matchingDict = {\"Protein\":gaff_forcefield, \"H2O\":spce_forcefield}\n",
        "parameterized_top = apply(\n",
        "    gmso_top, forcefield_matchingDict, identify_connections=True,\n",
        ")\n",
        "gmso_top._impropers = [] # we are removing the impropers for this simulation since hoomd doesn't support Improper PeriodicTorsionPotential yet"
      ]
    },
    {
      "cell_type": "markdown",
      "id": "fd41d5c7",
      "metadata": {
        "id": "fd41d5c7"
      },
      "source": [
        "## 6. Write HOOMD Objects\n",
        "---"
      ]
    },
    {
      "cell_type": "code",
      "execution_count": null,
      "id": "1bbfb573",
      "metadata": {
        "id": "1bbfb573"
      },
      "outputs": [],
      "source": [
        "#parameterized_top.save(\"top.gsd\", overwrite=True)\n",
        "import unyt as u\n",
        "\n",
        "from gmso.external import to_hoomd_forcefield, to_hoomd_snapshot\n",
        "\n",
        "base_units = {\n",
        "    \"mass\": u.g / u.mol,\n",
        "    \"length\": u.nm,\n",
        "    \"energy\": u.kJ / u.mol,\n",
        "}\n",
        "\n",
        "gmso_snapshot, snapshot_base_units = to_hoomd_snapshot(\n",
        "    parameterized_top, base_units=base_units\n",
        ")\n",
        "gmso_forces, forces_base_units = to_hoomd_forcefield( #can't handle dimensionless parameters currently, PR incoming\n",
        "    parameterized_top,\n",
        "    r_cut=1.4,\n",
        "    base_units=base_units,\n",
        "    pppm_kwargs={\"resolution\": (64, 64, 64), \"order\": 7},\n",
        ")\n",
        "gmso_forces"
      ]
    },
    {
      "cell_type": "markdown",
      "id": "677da6a1",
      "metadata": {
        "id": "677da6a1"
      },
      "source": [
        "## 7. Run HOOMD Simulations\n",
        "---"
      ]
    },
    {
      "cell_type": "code",
      "execution_count": null,
      "id": "bfcedc13",
      "metadata": {
        "id": "bfcedc13"
      },
      "outputs": [],
      "source": [
        "temp = 300 * u.K\n",
        "kT = temp.to_equivalent(\"kJ/mol\", \"thermal\").value\n",
        "\n",
        "cpu = hoomd.device.CPU()\n",
        "sim = hoomd.Simulation(device=cpu, seed=1)\n",
        "# sim.create_state_from_gsd(\"top.gsd\") # does not work\n",
        "sim.create_state_from_snapshot(gmso_snapshot)\n",
        "sim.operations.integrator = hoomd.md.Integrator(dt=0.0001)\n",
        "sim.operations.integrator.forces.extend(\n",
        "    list(set().union(*gmso_forces.values()))[:-1]\n",
        ")\n",
        "bussi = hoomd.md.methods.thermostats.Bussi(kT=kT)\n",
        "nvt = hoomd.md.methods.ConstantVolume(\n",
        "    filter=hoomd.filter.All(),\n",
        "    thermostat=bussi\n",
        ")\n",
        "sim.operations.integrator.methods.append(nvt)\n",
        "\n",
        "sim.state.thermalize_particle_momenta(filter=hoomd.filter.All(), kT=kT)\n",
        "thermodynamic_properties = hoomd.md.compute.ThermodynamicQuantities(\n",
        "    filter=hoomd.filter.All()\n",
        ")\n",
        "\n",
        "sim.operations.computes.append(thermodynamic_properties)\n",
        "logger = hoomd.logging.Logger()\n",
        "logger.add(thermodynamic_properties)\n",
        "import os\n",
        "if os.path.exists('trajectory.gsd'):\n",
        "    os.remove(\"trajectory.gsd\")\n",
        "gsd_writer = hoomd.write.GSD(\n",
        "    filename='trajectory.gsd',\n",
        "    trigger=hoomd.trigger.Periodic(50),\n",
        "     mode='xb',\n",
        "     filter=hoomd.filter.All(),\n",
        "     logger=logger\n",
        ")\n",
        "sim.operations.writers.append(gsd_writer)\n",
        "outlogger = hoomd.logging.Logger(categories=['scalar', 'string'])\n",
        "outlogger.add(sim, quantities=['timestep', 'tps'])\n",
        "outlogger.add(thermodynamic_properties, ['kinetic_temperature'])\n",
        "table = hoomd.write.Table(\n",
        "    trigger=hoomd.trigger.Periodic(period=50),\n",
        "    logger=outlogger\n",
        ")\n",
        "sim.operations.writers.append(table)\n",
        "sim.run(1000)"
      ]
    },
    {
      "cell_type": "markdown",
      "id": "a80284d5",
      "metadata": {
        "id": "a80284d5"
      },
      "source": [
        "## 8. Analyze results\n",
        "---"
      ]
    },
    {
      "cell_type": "code",
      "execution_count": null,
      "id": "fc3119ed",
      "metadata": {
        "id": "fc3119ed"
      },
      "outputs": [],
      "source": [
        "device = fresnel.Device()\n",
        "tracer = fresnel.tracer.Path(device=device, w=300, h=300)\n",
        "\n",
        "FRESNEL_MIN_VERSION = packaging.version.parse(\"0.13.0\")\n",
        "FRESNEL_MAX_VERSION = packaging.version.parse(\"0.14.0\")\n",
        "\n",
        "\n",
        "protein = np.array(list(range(954)))\n",
        "\n",
        "def render(snapshot, particles=None, is_solid=None, indices=None):\n",
        "    if ('version' not in dir(fresnel) or packaging.version.parse(\n",
        "            fresnel.version.version) < FRESNEL_MIN_VERSION\n",
        "            or packaging.version.parse(\n",
        "   fresnel.version.version) >= FRESNEL_MAX_VERSION):\n",
        "        warnings.warn(\n",
        "            f\"Unsupported fresnel version {fresnel.version.version} - expect errors.\"\n",
        "        )\n",
        "    vertices = [\n",
        "        (-0.5, 0, 0),\n",
        "        (0.5, 0, 0),\n",
        "        (0, -0.5, 0),\n",
        "        (0, 0.5, 0),\n",
        "        (0, 0, -0.5),\n",
        "        (0, 0, 0.5),\n",
        "    ]\n",
        "    # poly_info = fresnel.util.convex_polyhedron_from_vertices(vertices)\n",
        "    N = snapshot.particles.N if indices is None else len(indices)\n",
        "    L = snapshot.configuration.box[0]\n",
        "    if particles is not None:\n",
        "        N = len(particles)\n",
        "    if is_solid is not None:\n",
        "        N = int(numpy.sum(is_solid))\n",
        "\n",
        "    scene = fresnel.Scene(device)\n",
        "    # geometry = fresnel.geometry.ConvexPolyhedron(scene, poly_info, N=N)\n",
        "    geometry = fresnel.geometry.Sphere(\n",
        "        scene,\n",
        "        N=N,\n",
        "        radius = .05\n",
        "    )\n",
        "    geometry.material = fresnel.material.Material(color=fresnel.color.linear(\n",
        "        [0.01, 0.74, 0.26]),\n",
        "           roughness=0.5)\n",
        "    if indices is None:\n",
        "        geometry.position[:] = snapshot.particles.position[:]\n",
        "    else:\n",
        "        geometry.position[:protein.shape[0]] = snapshot.particles.position[:protein.shape[0]]\n",
        "\n",
        "\n",
        "    geometry.outline_width = 0.01\n",
        "    box = fresnel.geometry.Box(scene,\n",
        "     snapshot.configuration.box,\n",
        "     box_radius=.02)\n",
        "\n",
        "    scene.lights = [\n",
        "        fresnel.light.Light(direction=(0, 0, 1),\n",
        "  color=(0.8, 0.8, 0.8),\n",
        "  theta=math.pi),\n",
        "        fresnel.light.Light(direction=(1, 1, 1),\n",
        "  color=(1.1, 1.1, 1.1),\n",
        "  theta=math.pi / 3)\n",
        "    ]\n",
        "    scene.camera = fresnel.camera.Orthographic(position=(L * 2, L, L * 2),\n",
        "        look_at=(0, 0, 0),\n",
        "        up=(0, 1, 0),\n",
        "        height=L * 1.4 + 1)\n",
        "    scene.background_color = (1, 1, 1)\n",
        "    return tracer.sample(scene, samples=10)\n",
        "\n",
        "\n",
        "def render_movie(frames, particles=None, is_solid=None, indices = None):\n",
        "    if is_solid is None:\n",
        "        is_solid = [None] * len(frames)\n",
        "    a = render(frames[0], indices=indices)\n",
        "\n",
        "    im0 = PIL.Image.fromarray(a[:, :, 0:3], mode='RGB').convert(\n",
        "        \"P\", palette=PIL.Image.Palette.ADAPTIVE)\n",
        "    ims = []\n",
        "    for i, f in enumerate(frames[1:]):\n",
        "        a = render(f, indices=indices)\n",
        "        im = PIL.Image.fromarray(a[:, :, 0:3], mode='RGB')\n",
        "        im_p = im.quantize(palette=im0)\n",
        "        ims.append(im_p)\n",
        "\n",
        "    blank = numpy.ones(shape=(im0.height, im0.width, 3), dtype=numpy.uint8) * 255\n",
        "    im = PIL.Image.fromarray(blank, mode='RGB')\n",
        "    im_p = im.quantize(palette=im0)\n",
        "    ims.append(im_p)\n",
        "\n",
        "    f = io.BytesIO()\n",
        "    im0.save(f, 'gif', save_all=True, append_images=ims, duration=1000, loop=0)\n",
        "\n",
        "    size = len(f.getbuffer()) / 1024\n",
        "    if (size > 3000):\n",
        "        warnings.warn(f\"Large GIF: {size} KiB\")\n",
        "    return IPython.display.display(IPython.display.Image(data=f.getvalue()))"
      ]
    },
    {
      "cell_type": "code",
      "execution_count": null,
      "id": "932449aa",
      "metadata": {
        "id": "932449aa"
      },
      "outputs": [],
      "source": [
        "traj = gsd.hoomd.open('./CECAM-MoSDeF-Workshop/biomolecule_workflow/pre_run_trajectory.gsd') # replace with trajectory.gsd to view your run\n",
        "render_movie(traj, indices = protein)"
      ]
    }
  ],
  "metadata": {
    "colab": {
      "provenance": []
    },
    "kernelspec": {
      "display_name": "Python 3 (ipykernel)",
      "language": "python",
      "name": "python3"
    },
    "language_info": {
      "codemirror_mode": {
        "name": "ipython",
        "version": 3
      },
      "file_extension": ".py",
      "mimetype": "text/x-python",
      "name": "python",
      "nbconvert_exporter": "python",
      "pygments_lexer": "ipython3",
      "version": "3.9.18"
    }
  },
  "nbformat": 4,
  "nbformat_minor": 5
}
